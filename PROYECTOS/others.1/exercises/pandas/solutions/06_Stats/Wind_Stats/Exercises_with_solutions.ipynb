{
 "cells": [
  {
   "cell_type": "markdown",
   "metadata": {},
   "source": [
    "# Wind Statistics"
   ]
  },
  {
   "cell_type": "markdown",
   "metadata": {},
   "source": [
    "### Introduction:\n",
    "\n",
    "The data have been modified to contain some missing values, identified by NaN.  \n",
    "Using pandas should make this exercise\n",
    "easier, in particular for the bonus question.\n",
    "\n",
    "You should be able to perform all of these operations without using\n",
    "a for loop or other looping construct.\n",
    "\n",
    "\n",
    "1. The data in 'wind.data' has the following format:"
   ]
  },
  {
   "cell_type": "code",
   "execution_count": 130,
   "metadata": {},
   "outputs": [
    {
     "output_type": "execute_result",
     "data": {
      "text/plain": "'\\nYr Mo Dy   RPT   VAL   ROS   KIL   SHA   BIR   DUB   CLA   MUL   CLO   BEL   MAL\\n61  1  1 15.04 14.96 13.17  9.29   NaN  9.87 13.67 10.25 10.83 12.58 18.50 15.04\\n61  1  2 14.71   NaN 10.83  6.50 12.62  7.67 11.50 10.04  9.79  9.67 17.54 13.83\\n61  1  3 18.50 16.88 12.33 10.13 11.17  6.17 11.25   NaN  8.50  7.67 12.75 12.71\\n'"
     },
     "metadata": {},
     "execution_count": 130
    }
   ],
   "source": [
    "\"\"\"\n",
    "Yr Mo Dy   RPT   VAL   ROS   KIL   SHA   BIR   DUB   CLA   MUL   CLO   BEL   MAL\n",
    "61  1  1 15.04 14.96 13.17  9.29   NaN  9.87 13.67 10.25 10.83 12.58 18.50 15.04\n",
    "61  1  2 14.71   NaN 10.83  6.50 12.62  7.67 11.50 10.04  9.79  9.67 17.54 13.83\n",
    "61  1  3 18.50 16.88 12.33 10.13 11.17  6.17 11.25   NaN  8.50  7.67 12.75 12.71\n",
    "\"\"\""
   ]
  },
  {
   "cell_type": "markdown",
   "metadata": {},
   "source": [
    "   The first three columns are year, month and day.  The\n",
    "   remaining 12 columns are average windspeeds in knots at 12\n",
    "   locations in Ireland on that day.   \n",
    "\n",
    "   More information about the dataset go [here](wind.desc)."
   ]
  },
  {
   "cell_type": "markdown",
   "metadata": {},
   "source": [
    "### Step 1. Import the necessary libraries"
   ]
  },
  {
   "cell_type": "code",
   "execution_count": 131,
   "metadata": {},
   "outputs": [],
   "source": [
    "import pandas as pd\n",
    "import datetime"
   ]
  },
  {
   "cell_type": "markdown",
   "metadata": {},
   "source": [
    "### Step 2. Import the dataset from this [address](https://github.com/guipsamora/pandas_exercises/blob/master/06_Stats/Wind_Stats/wind.data)"
   ]
  },
  {
   "cell_type": "markdown",
   "metadata": {},
   "source": [
    "### Step 3. Assign it to a variable called data and replace the first 3 columns by a proper datetime index."
   ]
  },
  {
   "cell_type": "code",
   "execution_count": 132,
   "metadata": {},
   "outputs": [
    {
     "output_type": "execute_result",
     "data": {
      "text/plain": "      Yr    Mo    Dy  Unnamed: 3  Unnamed: 4    RPT  Unnamed: 6  Unnamed: 7  \\\n0     61   NaN   1.0         NaN        1.00  15.04       14.96       13.17   \n1     61   NaN   1.0         NaN        2.00  14.71         NaN         NaN   \n2     61   NaN   1.0         NaN        3.00  18.50       16.88       12.33   \n3     61   NaN   1.0         NaN        4.00  10.58         NaN        6.63   \n4     61   NaN   1.0         NaN        5.00  13.33       13.25       11.42   \n...   ..   ...   ...         ...         ...    ...         ...         ...   \n6569  78  12.0  27.0       17.58       16.96  17.62         NaN        8.08   \n6570  78  12.0  28.0       13.21         NaN   5.46       13.46         NaN   \n6571  78  12.0  29.0       14.00       10.29  14.42         NaN        8.71   \n6572  78  12.0  30.0       18.50       14.04  21.29         NaN        9.13   \n6573  78  12.0  31.0       20.33       17.41  27.29         NaN        9.59   \n\n        VAL  Unnamed: 9  ...  MUL  Unnamed: 30  Unnamed: 31  CLO  Unnamed: 33  \\\n0       NaN        9.29  ...  NaN          NaN          NaN  NaN          NaN   \n1       NaN       10.83  ...  NaN          NaN          NaN  NaN          NaN   \n2     10.13       11.17  ...  NaN          NaN          NaN  NaN          NaN   \n3     11.75         NaN  ...  NaN          NaN          NaN  NaN          NaN   \n4       NaN        6.17  ...  NaN          NaN          NaN  NaN          NaN   \n...     ...         ...  ...  ...          ...          ...  ...          ...   \n6569  13.21       11.67  ...  NaN          NaN          NaN  NaN          NaN   \n6570   5.00         NaN  ...  NaN          NaN          NaN  NaN          NaN   \n6571    NaN        9.71  ...  NaN          NaN          NaN  NaN          NaN   \n6572  12.75         NaN  ...  NaN          NaN          NaN  NaN          NaN   \n6573  12.08       10.13  ...  NaN          NaN          NaN  NaN          NaN   \n\n      Unnamed: 34  BEL  Unnamed: 36  Unnamed: 37  MAL  \n0             NaN  NaN          NaN          NaN  NaN  \n1             NaN  NaN          NaN          NaN  NaN  \n2             NaN  NaN          NaN          NaN  NaN  \n3             NaN  NaN          NaN          NaN  NaN  \n4             NaN  NaN          NaN          NaN  NaN  \n...           ...  ...          ...          ...  ...  \n6569          NaN  NaN          NaN          NaN  NaN  \n6570          NaN  NaN          NaN          NaN  NaN  \n6571          NaN  NaN          NaN          NaN  NaN  \n6572          NaN  NaN          NaN          NaN  NaN  \n6573          NaN  NaN          NaN          NaN  NaN  \n\n[6574 rows x 39 columns]",
      "text/html": "<div>\n<style scoped>\n    .dataframe tbody tr th:only-of-type {\n        vertical-align: middle;\n    }\n\n    .dataframe tbody tr th {\n        vertical-align: top;\n    }\n\n    .dataframe thead th {\n        text-align: right;\n    }\n</style>\n<table border=\"1\" class=\"dataframe\">\n  <thead>\n    <tr style=\"text-align: right;\">\n      <th></th>\n      <th>Yr</th>\n      <th>Mo</th>\n      <th>Dy</th>\n      <th>Unnamed: 3</th>\n      <th>Unnamed: 4</th>\n      <th>RPT</th>\n      <th>Unnamed: 6</th>\n      <th>Unnamed: 7</th>\n      <th>VAL</th>\n      <th>Unnamed: 9</th>\n      <th>...</th>\n      <th>MUL</th>\n      <th>Unnamed: 30</th>\n      <th>Unnamed: 31</th>\n      <th>CLO</th>\n      <th>Unnamed: 33</th>\n      <th>Unnamed: 34</th>\n      <th>BEL</th>\n      <th>Unnamed: 36</th>\n      <th>Unnamed: 37</th>\n      <th>MAL</th>\n    </tr>\n  </thead>\n  <tbody>\n    <tr>\n      <th>0</th>\n      <td>61</td>\n      <td>NaN</td>\n      <td>1.0</td>\n      <td>NaN</td>\n      <td>1.00</td>\n      <td>15.04</td>\n      <td>14.96</td>\n      <td>13.17</td>\n      <td>NaN</td>\n      <td>9.29</td>\n      <td>...</td>\n      <td>NaN</td>\n      <td>NaN</td>\n      <td>NaN</td>\n      <td>NaN</td>\n      <td>NaN</td>\n      <td>NaN</td>\n      <td>NaN</td>\n      <td>NaN</td>\n      <td>NaN</td>\n      <td>NaN</td>\n    </tr>\n    <tr>\n      <th>1</th>\n      <td>61</td>\n      <td>NaN</td>\n      <td>1.0</td>\n      <td>NaN</td>\n      <td>2.00</td>\n      <td>14.71</td>\n      <td>NaN</td>\n      <td>NaN</td>\n      <td>NaN</td>\n      <td>10.83</td>\n      <td>...</td>\n      <td>NaN</td>\n      <td>NaN</td>\n      <td>NaN</td>\n      <td>NaN</td>\n      <td>NaN</td>\n      <td>NaN</td>\n      <td>NaN</td>\n      <td>NaN</td>\n      <td>NaN</td>\n      <td>NaN</td>\n    </tr>\n    <tr>\n      <th>2</th>\n      <td>61</td>\n      <td>NaN</td>\n      <td>1.0</td>\n      <td>NaN</td>\n      <td>3.00</td>\n      <td>18.50</td>\n      <td>16.88</td>\n      <td>12.33</td>\n      <td>10.13</td>\n      <td>11.17</td>\n      <td>...</td>\n      <td>NaN</td>\n      <td>NaN</td>\n      <td>NaN</td>\n      <td>NaN</td>\n      <td>NaN</td>\n      <td>NaN</td>\n      <td>NaN</td>\n      <td>NaN</td>\n      <td>NaN</td>\n      <td>NaN</td>\n    </tr>\n    <tr>\n      <th>3</th>\n      <td>61</td>\n      <td>NaN</td>\n      <td>1.0</td>\n      <td>NaN</td>\n      <td>4.00</td>\n      <td>10.58</td>\n      <td>NaN</td>\n      <td>6.63</td>\n      <td>11.75</td>\n      <td>NaN</td>\n      <td>...</td>\n      <td>NaN</td>\n      <td>NaN</td>\n      <td>NaN</td>\n      <td>NaN</td>\n      <td>NaN</td>\n      <td>NaN</td>\n      <td>NaN</td>\n      <td>NaN</td>\n      <td>NaN</td>\n      <td>NaN</td>\n    </tr>\n    <tr>\n      <th>4</th>\n      <td>61</td>\n      <td>NaN</td>\n      <td>1.0</td>\n      <td>NaN</td>\n      <td>5.00</td>\n      <td>13.33</td>\n      <td>13.25</td>\n      <td>11.42</td>\n      <td>NaN</td>\n      <td>6.17</td>\n      <td>...</td>\n      <td>NaN</td>\n      <td>NaN</td>\n      <td>NaN</td>\n      <td>NaN</td>\n      <td>NaN</td>\n      <td>NaN</td>\n      <td>NaN</td>\n      <td>NaN</td>\n      <td>NaN</td>\n      <td>NaN</td>\n    </tr>\n    <tr>\n      <th>...</th>\n      <td>...</td>\n      <td>...</td>\n      <td>...</td>\n      <td>...</td>\n      <td>...</td>\n      <td>...</td>\n      <td>...</td>\n      <td>...</td>\n      <td>...</td>\n      <td>...</td>\n      <td>...</td>\n      <td>...</td>\n      <td>...</td>\n      <td>...</td>\n      <td>...</td>\n      <td>...</td>\n      <td>...</td>\n      <td>...</td>\n      <td>...</td>\n      <td>...</td>\n      <td>...</td>\n    </tr>\n    <tr>\n      <th>6569</th>\n      <td>78</td>\n      <td>12.0</td>\n      <td>27.0</td>\n      <td>17.58</td>\n      <td>16.96</td>\n      <td>17.62</td>\n      <td>NaN</td>\n      <td>8.08</td>\n      <td>13.21</td>\n      <td>11.67</td>\n      <td>...</td>\n      <td>NaN</td>\n      <td>NaN</td>\n      <td>NaN</td>\n      <td>NaN</td>\n      <td>NaN</td>\n      <td>NaN</td>\n      <td>NaN</td>\n      <td>NaN</td>\n      <td>NaN</td>\n      <td>NaN</td>\n    </tr>\n    <tr>\n      <th>6570</th>\n      <td>78</td>\n      <td>12.0</td>\n      <td>28.0</td>\n      <td>13.21</td>\n      <td>NaN</td>\n      <td>5.46</td>\n      <td>13.46</td>\n      <td>NaN</td>\n      <td>5.00</td>\n      <td>NaN</td>\n      <td>...</td>\n      <td>NaN</td>\n      <td>NaN</td>\n      <td>NaN</td>\n      <td>NaN</td>\n      <td>NaN</td>\n      <td>NaN</td>\n      <td>NaN</td>\n      <td>NaN</td>\n      <td>NaN</td>\n      <td>NaN</td>\n    </tr>\n    <tr>\n      <th>6571</th>\n      <td>78</td>\n      <td>12.0</td>\n      <td>29.0</td>\n      <td>14.00</td>\n      <td>10.29</td>\n      <td>14.42</td>\n      <td>NaN</td>\n      <td>8.71</td>\n      <td>NaN</td>\n      <td>9.71</td>\n      <td>...</td>\n      <td>NaN</td>\n      <td>NaN</td>\n      <td>NaN</td>\n      <td>NaN</td>\n      <td>NaN</td>\n      <td>NaN</td>\n      <td>NaN</td>\n      <td>NaN</td>\n      <td>NaN</td>\n      <td>NaN</td>\n    </tr>\n    <tr>\n      <th>6572</th>\n      <td>78</td>\n      <td>12.0</td>\n      <td>30.0</td>\n      <td>18.50</td>\n      <td>14.04</td>\n      <td>21.29</td>\n      <td>NaN</td>\n      <td>9.13</td>\n      <td>12.75</td>\n      <td>NaN</td>\n      <td>...</td>\n      <td>NaN</td>\n      <td>NaN</td>\n      <td>NaN</td>\n      <td>NaN</td>\n      <td>NaN</td>\n      <td>NaN</td>\n      <td>NaN</td>\n      <td>NaN</td>\n      <td>NaN</td>\n      <td>NaN</td>\n    </tr>\n    <tr>\n      <th>6573</th>\n      <td>78</td>\n      <td>12.0</td>\n      <td>31.0</td>\n      <td>20.33</td>\n      <td>17.41</td>\n      <td>27.29</td>\n      <td>NaN</td>\n      <td>9.59</td>\n      <td>12.08</td>\n      <td>10.13</td>\n      <td>...</td>\n      <td>NaN</td>\n      <td>NaN</td>\n      <td>NaN</td>\n      <td>NaN</td>\n      <td>NaN</td>\n      <td>NaN</td>\n      <td>NaN</td>\n      <td>NaN</td>\n      <td>NaN</td>\n      <td>NaN</td>\n    </tr>\n  </tbody>\n</table>\n<p>6574 rows × 39 columns</p>\n</div>"
     },
     "metadata": {},
     "execution_count": 132
    }
   ],
   "source": [
    "data_url = 'https://raw.githubusercontent.com/guipsamora/pandas_exercises/master/06_Stats/Wind_Stats/wind.data'\n",
    "data2 = pd.read_csv(data_url, sep = \"\\s\") \n",
    "data2 #por defecto el read csv trae el separador \",\" pero hay que poner el  ismo que viene en el dataframe (en este caso espacio)"
   ]
  },
  {
   "cell_type": "code",
   "execution_count": 133,
   "metadata": {
    "tags": []
   },
   "outputs": [
    {
     "output_type": "stream",
     "name": "stdout",
     "text": "Date: 2018-06-29\nTime: 08:15:27.243860\nDate-time: 2018-06-29 08:15:27.243860\n"
    },
    {
     "output_type": "execute_result",
     "data": {
      "text/plain": "15"
     },
     "metadata": {},
     "execution_count": 133
    }
   ],
   "source": [
    "from datetime import datetime\n",
    "\n",
    "#nos tenemos que fijar el orden que lleva (año, mes, dia) \n",
    "date_time_str = '2018-06-29 08:15:27.243860' #pasamos este string a formato datetime \n",
    "date_time_obj = datetime.strptime(date_time_str, '%Y-%m-%d %H:%M:%S.%f')#esto ultimo es la codificacion para vertir los datos en tiempo (buscar en google) \n",
    "\n",
    "print('Date:', date_time_obj.date()) #date_time_obj es un objeto, es una clase, estas lineas que haora vemos son sus funciones \n",
    "print('Time:', date_time_obj.time())\n",
    "print('Date-time:', date_time_obj)\n",
    "date_time_obj.minute"
   ]
  },
  {
   "cell_type": "code",
   "execution_count": 134,
   "metadata": {},
   "outputs": [],
   "source": [
    "x = date_time_obj.strftime(\"%m/%d/%Y,------ %H:%M:%S\") #cambiamos nuestro objeto datetime a string de nuevo  "
   ]
  },
  {
   "cell_type": "code",
   "execution_count": 135,
   "metadata": {},
   "outputs": [
    {
     "output_type": "execute_result",
     "data": {
      "text/plain": "str"
     },
     "metadata": {},
     "execution_count": 135
    }
   ],
   "source": [
    "x = date_time_obj.strftime(\"%m/%d/%Y,------ %H:%M:%S\") \n",
    "type(x)"
   ]
  },
  {
   "cell_type": "code",
   "execution_count": 136,
   "metadata": {},
   "outputs": [
    {
     "output_type": "execute_result",
     "data": {
      "text/plain": "      Yr  Mo  Dy    RPT    VAL    ROS    KIL    SHA    BIR    DUB    CLA  \\\n0     61   1   1  15.04  14.96  13.17   9.29    NaN   9.87  13.67  10.25   \n1     61   1   2  14.71    NaN  10.83   6.50  12.62   7.67  11.50  10.04   \n2     61   1   3  18.50  16.88  12.33  10.13  11.17   6.17  11.25    NaN   \n3     61   1   4  10.58   6.63  11.75   4.58   4.54   2.88   8.63   1.79   \n4     61   1   5  13.33  13.25  11.42   6.17  10.71   8.21  11.92   6.54   \n...   ..  ..  ..    ...    ...    ...    ...    ...    ...    ...    ...   \n6569  78  12  27  17.58  16.96  17.62   8.08  13.21  11.67  14.46  15.59   \n6570  78  12  28  13.21   5.46  13.46   5.00   8.12   9.42  14.33  16.25   \n6571  78  12  29  14.00  10.29  14.42   8.71   9.71  10.54  19.17  12.46   \n6572  78  12  30  18.50  14.04  21.29   9.13  12.75   9.71  18.08  12.87   \n6573  78  12  31  20.33  17.41  27.29   9.59  12.08  10.13  19.25  11.63   \n\n        MUL    CLO    BEL    MAL  \n0     10.83  12.58  18.50  15.04  \n1      9.79   9.67  17.54  13.83  \n2      8.50   7.67  12.75  12.71  \n3      5.83   5.88   5.46  10.88  \n4     10.92  10.34  12.92  11.83  \n...     ...    ...    ...    ...  \n6569  14.04  14.00  17.21  40.08  \n6570  15.25  18.05  21.79  41.46  \n6571  14.50  16.42  18.88  29.58  \n6572  12.46  12.12  14.67  28.79  \n6573  11.58  11.38  12.08  22.08  \n\n[6574 rows x 15 columns]",
      "text/html": "<div>\n<style scoped>\n    .dataframe tbody tr th:only-of-type {\n        vertical-align: middle;\n    }\n\n    .dataframe tbody tr th {\n        vertical-align: top;\n    }\n\n    .dataframe thead th {\n        text-align: right;\n    }\n</style>\n<table border=\"1\" class=\"dataframe\">\n  <thead>\n    <tr style=\"text-align: right;\">\n      <th></th>\n      <th>Yr</th>\n      <th>Mo</th>\n      <th>Dy</th>\n      <th>RPT</th>\n      <th>VAL</th>\n      <th>ROS</th>\n      <th>KIL</th>\n      <th>SHA</th>\n      <th>BIR</th>\n      <th>DUB</th>\n      <th>CLA</th>\n      <th>MUL</th>\n      <th>CLO</th>\n      <th>BEL</th>\n      <th>MAL</th>\n    </tr>\n  </thead>\n  <tbody>\n    <tr>\n      <th>0</th>\n      <td>61</td>\n      <td>1</td>\n      <td>1</td>\n      <td>15.04</td>\n      <td>14.96</td>\n      <td>13.17</td>\n      <td>9.29</td>\n      <td>NaN</td>\n      <td>9.87</td>\n      <td>13.67</td>\n      <td>10.25</td>\n      <td>10.83</td>\n      <td>12.58</td>\n      <td>18.50</td>\n      <td>15.04</td>\n    </tr>\n    <tr>\n      <th>1</th>\n      <td>61</td>\n      <td>1</td>\n      <td>2</td>\n      <td>14.71</td>\n      <td>NaN</td>\n      <td>10.83</td>\n      <td>6.50</td>\n      <td>12.62</td>\n      <td>7.67</td>\n      <td>11.50</td>\n      <td>10.04</td>\n      <td>9.79</td>\n      <td>9.67</td>\n      <td>17.54</td>\n      <td>13.83</td>\n    </tr>\n    <tr>\n      <th>2</th>\n      <td>61</td>\n      <td>1</td>\n      <td>3</td>\n      <td>18.50</td>\n      <td>16.88</td>\n      <td>12.33</td>\n      <td>10.13</td>\n      <td>11.17</td>\n      <td>6.17</td>\n      <td>11.25</td>\n      <td>NaN</td>\n      <td>8.50</td>\n      <td>7.67</td>\n      <td>12.75</td>\n      <td>12.71</td>\n    </tr>\n    <tr>\n      <th>3</th>\n      <td>61</td>\n      <td>1</td>\n      <td>4</td>\n      <td>10.58</td>\n      <td>6.63</td>\n      <td>11.75</td>\n      <td>4.58</td>\n      <td>4.54</td>\n      <td>2.88</td>\n      <td>8.63</td>\n      <td>1.79</td>\n      <td>5.83</td>\n      <td>5.88</td>\n      <td>5.46</td>\n      <td>10.88</td>\n    </tr>\n    <tr>\n      <th>4</th>\n      <td>61</td>\n      <td>1</td>\n      <td>5</td>\n      <td>13.33</td>\n      <td>13.25</td>\n      <td>11.42</td>\n      <td>6.17</td>\n      <td>10.71</td>\n      <td>8.21</td>\n      <td>11.92</td>\n      <td>6.54</td>\n      <td>10.92</td>\n      <td>10.34</td>\n      <td>12.92</td>\n      <td>11.83</td>\n    </tr>\n    <tr>\n      <th>...</th>\n      <td>...</td>\n      <td>...</td>\n      <td>...</td>\n      <td>...</td>\n      <td>...</td>\n      <td>...</td>\n      <td>...</td>\n      <td>...</td>\n      <td>...</td>\n      <td>...</td>\n      <td>...</td>\n      <td>...</td>\n      <td>...</td>\n      <td>...</td>\n      <td>...</td>\n    </tr>\n    <tr>\n      <th>6569</th>\n      <td>78</td>\n      <td>12</td>\n      <td>27</td>\n      <td>17.58</td>\n      <td>16.96</td>\n      <td>17.62</td>\n      <td>8.08</td>\n      <td>13.21</td>\n      <td>11.67</td>\n      <td>14.46</td>\n      <td>15.59</td>\n      <td>14.04</td>\n      <td>14.00</td>\n      <td>17.21</td>\n      <td>40.08</td>\n    </tr>\n    <tr>\n      <th>6570</th>\n      <td>78</td>\n      <td>12</td>\n      <td>28</td>\n      <td>13.21</td>\n      <td>5.46</td>\n      <td>13.46</td>\n      <td>5.00</td>\n      <td>8.12</td>\n      <td>9.42</td>\n      <td>14.33</td>\n      <td>16.25</td>\n      <td>15.25</td>\n      <td>18.05</td>\n      <td>21.79</td>\n      <td>41.46</td>\n    </tr>\n    <tr>\n      <th>6571</th>\n      <td>78</td>\n      <td>12</td>\n      <td>29</td>\n      <td>14.00</td>\n      <td>10.29</td>\n      <td>14.42</td>\n      <td>8.71</td>\n      <td>9.71</td>\n      <td>10.54</td>\n      <td>19.17</td>\n      <td>12.46</td>\n      <td>14.50</td>\n      <td>16.42</td>\n      <td>18.88</td>\n      <td>29.58</td>\n    </tr>\n    <tr>\n      <th>6572</th>\n      <td>78</td>\n      <td>12</td>\n      <td>30</td>\n      <td>18.50</td>\n      <td>14.04</td>\n      <td>21.29</td>\n      <td>9.13</td>\n      <td>12.75</td>\n      <td>9.71</td>\n      <td>18.08</td>\n      <td>12.87</td>\n      <td>12.46</td>\n      <td>12.12</td>\n      <td>14.67</td>\n      <td>28.79</td>\n    </tr>\n    <tr>\n      <th>6573</th>\n      <td>78</td>\n      <td>12</td>\n      <td>31</td>\n      <td>20.33</td>\n      <td>17.41</td>\n      <td>27.29</td>\n      <td>9.59</td>\n      <td>12.08</td>\n      <td>10.13</td>\n      <td>19.25</td>\n      <td>11.63</td>\n      <td>11.58</td>\n      <td>11.38</td>\n      <td>12.08</td>\n      <td>22.08</td>\n    </tr>\n  </tbody>\n</table>\n<p>6574 rows × 15 columns</p>\n</div>"
     },
     "metadata": {},
     "execution_count": 136
    }
   ],
   "source": [
    "data_url = 'https://raw.githubusercontent.com/guipsamora/pandas_exercises/master/06_Stats/Wind_Stats/wind.data'\n",
    "data2 = pd.read_csv(data_url, sep = \"\\s+\") #ese + al lado de la s es para que se vierta todo correctamente sin convertir los espaciones en vacio en nuevas columnas \n",
    "data2"
   ]
  },
  {
   "cell_type": "code",
   "execution_count": null,
   "metadata": {},
   "outputs": [],
   "source": []
  },
  {
   "cell_type": "code",
   "execution_count": 137,
   "metadata": {},
   "outputs": [
    {
     "output_type": "error",
     "ename": "AttributeError",
     "evalue": "Can only use .str accessor with string values!",
     "traceback": [
      "\u001b[1;31m---------------------------------------------------------------------------\u001b[0m",
      "\u001b[1;31mAttributeError\u001b[0m                            Traceback (most recent call last)",
      "\u001b[1;32m<ipython-input-137-24ed8089505b>\u001b[0m in \u001b[0;36m<module>\u001b[1;34m\u001b[0m\n\u001b[1;32m----> 1\u001b[1;33m \u001b[0mdata2\u001b[0m\u001b[1;33m[\u001b[0m\u001b[1;34m\"date_\"\u001b[0m\u001b[1;33m]\u001b[0m \u001b[1;33m=\u001b[0m \u001b[0mdata2\u001b[0m\u001b[1;33m[\u001b[0m\u001b[1;34m\"Yr\"\u001b[0m\u001b[1;33m]\u001b[0m\u001b[1;33m.\u001b[0m\u001b[0mstr\u001b[0m \u001b[1;33m+\u001b[0m \u001b[0mdata2\u001b[0m\u001b[1;33m[\u001b[0m\u001b[1;34m\"Mo\"\u001b[0m\u001b[1;33m]\u001b[0m\u001b[1;33m.\u001b[0m\u001b[0mstr\u001b[0m \u001b[1;33m+\u001b[0m \u001b[0mdata2\u001b[0m\u001b[1;33m[\u001b[0m\u001b[1;34m\"Dy\"\u001b[0m\u001b[1;33m]\u001b[0m\u001b[1;33m.\u001b[0m\u001b[0mstr\u001b[0m\u001b[1;33m\u001b[0m\u001b[1;33m\u001b[0m\u001b[0m\n\u001b[0m\u001b[0;32m      2\u001b[0m \u001b[0mdata2\u001b[0m\u001b[1;33m[\u001b[0m\u001b[1;34m\"date_\"\u001b[0m\u001b[1;33m]\u001b[0m\u001b[1;33m\u001b[0m\u001b[1;33m\u001b[0m\u001b[0m\n",
      "\u001b[1;32m~\\AppData\\Local\\Programs\\Python\\Python38-32\\lib\\site-packages\\pandas\\core\\generic.py\u001b[0m in \u001b[0;36m__getattr__\u001b[1;34m(self, name)\u001b[0m\n\u001b[0;32m   5268\u001b[0m             \u001b[1;32mor\u001b[0m \u001b[0mname\u001b[0m \u001b[1;32min\u001b[0m \u001b[0mself\u001b[0m\u001b[1;33m.\u001b[0m\u001b[0m_accessors\u001b[0m\u001b[1;33m\u001b[0m\u001b[1;33m\u001b[0m\u001b[0m\n\u001b[0;32m   5269\u001b[0m         ):\n\u001b[1;32m-> 5270\u001b[1;33m             \u001b[1;32mreturn\u001b[0m \u001b[0mobject\u001b[0m\u001b[1;33m.\u001b[0m\u001b[0m__getattribute__\u001b[0m\u001b[1;33m(\u001b[0m\u001b[0mself\u001b[0m\u001b[1;33m,\u001b[0m \u001b[0mname\u001b[0m\u001b[1;33m)\u001b[0m\u001b[1;33m\u001b[0m\u001b[1;33m\u001b[0m\u001b[0m\n\u001b[0m\u001b[0;32m   5271\u001b[0m         \u001b[1;32melse\u001b[0m\u001b[1;33m:\u001b[0m\u001b[1;33m\u001b[0m\u001b[1;33m\u001b[0m\u001b[0m\n\u001b[0;32m   5272\u001b[0m             \u001b[1;32mif\u001b[0m \u001b[0mself\u001b[0m\u001b[1;33m.\u001b[0m\u001b[0m_info_axis\u001b[0m\u001b[1;33m.\u001b[0m\u001b[0m_can_hold_identifiers_and_holds_name\u001b[0m\u001b[1;33m(\u001b[0m\u001b[0mname\u001b[0m\u001b[1;33m)\u001b[0m\u001b[1;33m:\u001b[0m\u001b[1;33m\u001b[0m\u001b[1;33m\u001b[0m\u001b[0m\n",
      "\u001b[1;32m~\\AppData\\Local\\Programs\\Python\\Python38-32\\lib\\site-packages\\pandas\\core\\accessor.py\u001b[0m in \u001b[0;36m__get__\u001b[1;34m(self, obj, cls)\u001b[0m\n\u001b[0;32m    185\u001b[0m             \u001b[1;31m# we're accessing the attribute of the class, i.e., Dataset.geo\u001b[0m\u001b[1;33m\u001b[0m\u001b[1;33m\u001b[0m\u001b[1;33m\u001b[0m\u001b[0m\n\u001b[0;32m    186\u001b[0m             \u001b[1;32mreturn\u001b[0m \u001b[0mself\u001b[0m\u001b[1;33m.\u001b[0m\u001b[0m_accessor\u001b[0m\u001b[1;33m\u001b[0m\u001b[1;33m\u001b[0m\u001b[0m\n\u001b[1;32m--> 187\u001b[1;33m         \u001b[0maccessor_obj\u001b[0m \u001b[1;33m=\u001b[0m \u001b[0mself\u001b[0m\u001b[1;33m.\u001b[0m\u001b[0m_accessor\u001b[0m\u001b[1;33m(\u001b[0m\u001b[0mobj\u001b[0m\u001b[1;33m)\u001b[0m\u001b[1;33m\u001b[0m\u001b[1;33m\u001b[0m\u001b[0m\n\u001b[0m\u001b[0;32m    188\u001b[0m         \u001b[1;31m# Replace the property with the accessor object. Inspired by:\u001b[0m\u001b[1;33m\u001b[0m\u001b[1;33m\u001b[0m\u001b[1;33m\u001b[0m\u001b[0m\n\u001b[0;32m    189\u001b[0m         \u001b[1;31m# http://www.pydanny.com/cached-property.html\u001b[0m\u001b[1;33m\u001b[0m\u001b[1;33m\u001b[0m\u001b[1;33m\u001b[0m\u001b[0m\n",
      "\u001b[1;32m~\\AppData\\Local\\Programs\\Python\\Python38-32\\lib\\site-packages\\pandas\\core\\strings.py\u001b[0m in \u001b[0;36m__init__\u001b[1;34m(self, data)\u001b[0m\n\u001b[0;32m   2039\u001b[0m \u001b[1;33m\u001b[0m\u001b[0m\n\u001b[0;32m   2040\u001b[0m     \u001b[1;32mdef\u001b[0m \u001b[0m__init__\u001b[0m\u001b[1;33m(\u001b[0m\u001b[0mself\u001b[0m\u001b[1;33m,\u001b[0m \u001b[0mdata\u001b[0m\u001b[1;33m)\u001b[0m\u001b[1;33m:\u001b[0m\u001b[1;33m\u001b[0m\u001b[1;33m\u001b[0m\u001b[0m\n\u001b[1;32m-> 2041\u001b[1;33m         \u001b[0mself\u001b[0m\u001b[1;33m.\u001b[0m\u001b[0m_inferred_dtype\u001b[0m \u001b[1;33m=\u001b[0m \u001b[0mself\u001b[0m\u001b[1;33m.\u001b[0m\u001b[0m_validate\u001b[0m\u001b[1;33m(\u001b[0m\u001b[0mdata\u001b[0m\u001b[1;33m)\u001b[0m\u001b[1;33m\u001b[0m\u001b[1;33m\u001b[0m\u001b[0m\n\u001b[0m\u001b[0;32m   2042\u001b[0m         \u001b[0mself\u001b[0m\u001b[1;33m.\u001b[0m\u001b[0m_is_categorical\u001b[0m \u001b[1;33m=\u001b[0m \u001b[0mis_categorical_dtype\u001b[0m\u001b[1;33m(\u001b[0m\u001b[0mdata\u001b[0m\u001b[1;33m)\u001b[0m\u001b[1;33m\u001b[0m\u001b[1;33m\u001b[0m\u001b[0m\n\u001b[0;32m   2043\u001b[0m         \u001b[0mself\u001b[0m\u001b[1;33m.\u001b[0m\u001b[0m_is_string\u001b[0m \u001b[1;33m=\u001b[0m \u001b[0mdata\u001b[0m\u001b[1;33m.\u001b[0m\u001b[0mdtype\u001b[0m\u001b[1;33m.\u001b[0m\u001b[0mname\u001b[0m \u001b[1;33m==\u001b[0m \u001b[1;34m\"string\"\u001b[0m\u001b[1;33m\u001b[0m\u001b[1;33m\u001b[0m\u001b[0m\n",
      "\u001b[1;32m~\\AppData\\Local\\Programs\\Python\\Python38-32\\lib\\site-packages\\pandas\\core\\strings.py\u001b[0m in \u001b[0;36m_validate\u001b[1;34m(data)\u001b[0m\n\u001b[0;32m   2096\u001b[0m \u001b[1;33m\u001b[0m\u001b[0m\n\u001b[0;32m   2097\u001b[0m         \u001b[1;32mif\u001b[0m \u001b[0minferred_dtype\u001b[0m \u001b[1;32mnot\u001b[0m \u001b[1;32min\u001b[0m \u001b[0mallowed_types\u001b[0m\u001b[1;33m:\u001b[0m\u001b[1;33m\u001b[0m\u001b[1;33m\u001b[0m\u001b[0m\n\u001b[1;32m-> 2098\u001b[1;33m             \u001b[1;32mraise\u001b[0m \u001b[0mAttributeError\u001b[0m\u001b[1;33m(\u001b[0m\u001b[1;34m\"Can only use .str accessor with string values!\"\u001b[0m\u001b[1;33m)\u001b[0m\u001b[1;33m\u001b[0m\u001b[1;33m\u001b[0m\u001b[0m\n\u001b[0m\u001b[0;32m   2099\u001b[0m         \u001b[1;32mreturn\u001b[0m \u001b[0minferred_dtype\u001b[0m\u001b[1;33m\u001b[0m\u001b[1;33m\u001b[0m\u001b[0m\n\u001b[0;32m   2100\u001b[0m \u001b[1;33m\u001b[0m\u001b[0m\n",
      "\u001b[1;31mAttributeError\u001b[0m: Can only use .str accessor with string values!"
     ]
    }
   ],
   "source": [
    "data2[\"date_\"] = data2[\"Yr\"].str + data2[\"Mo\"].str + data2[\"Dy\"].str\n",
    "data2[\"date_\"]"
   ]
  },
  {
   "cell_type": "code",
   "execution_count": 138,
   "metadata": {},
   "outputs": [
    {
     "output_type": "execute_result",
     "data": {
      "text/plain": "    Yr_Mo_Dy    RPT    VAL    ROS    KIL    SHA   BIR    DUB    CLA    MUL  \\\n0 2061-01-01  15.04  14.96  13.17   9.29    NaN  9.87  13.67  10.25  10.83   \n1 2061-01-02  14.71    NaN  10.83   6.50  12.62  7.67  11.50  10.04   9.79   \n2 2061-01-03  18.50  16.88  12.33  10.13  11.17  6.17  11.25    NaN   8.50   \n3 2061-01-04  10.58   6.63  11.75   4.58   4.54  2.88   8.63   1.79   5.83   \n4 2061-01-05  13.33  13.25  11.42   6.17  10.71  8.21  11.92   6.54  10.92   \n\n     CLO    BEL    MAL  \n0  12.58  18.50  15.04  \n1   9.67  17.54  13.83  \n2   7.67  12.75  12.71  \n3   5.88   5.46  10.88  \n4  10.34  12.92  11.83  ",
      "text/html": "<div>\n<style scoped>\n    .dataframe tbody tr th:only-of-type {\n        vertical-align: middle;\n    }\n\n    .dataframe tbody tr th {\n        vertical-align: top;\n    }\n\n    .dataframe thead th {\n        text-align: right;\n    }\n</style>\n<table border=\"1\" class=\"dataframe\">\n  <thead>\n    <tr style=\"text-align: right;\">\n      <th></th>\n      <th>Yr_Mo_Dy</th>\n      <th>RPT</th>\n      <th>VAL</th>\n      <th>ROS</th>\n      <th>KIL</th>\n      <th>SHA</th>\n      <th>BIR</th>\n      <th>DUB</th>\n      <th>CLA</th>\n      <th>MUL</th>\n      <th>CLO</th>\n      <th>BEL</th>\n      <th>MAL</th>\n    </tr>\n  </thead>\n  <tbody>\n    <tr>\n      <th>0</th>\n      <td>2061-01-01</td>\n      <td>15.04</td>\n      <td>14.96</td>\n      <td>13.17</td>\n      <td>9.29</td>\n      <td>NaN</td>\n      <td>9.87</td>\n      <td>13.67</td>\n      <td>10.25</td>\n      <td>10.83</td>\n      <td>12.58</td>\n      <td>18.50</td>\n      <td>15.04</td>\n    </tr>\n    <tr>\n      <th>1</th>\n      <td>2061-01-02</td>\n      <td>14.71</td>\n      <td>NaN</td>\n      <td>10.83</td>\n      <td>6.50</td>\n      <td>12.62</td>\n      <td>7.67</td>\n      <td>11.50</td>\n      <td>10.04</td>\n      <td>9.79</td>\n      <td>9.67</td>\n      <td>17.54</td>\n      <td>13.83</td>\n    </tr>\n    <tr>\n      <th>2</th>\n      <td>2061-01-03</td>\n      <td>18.50</td>\n      <td>16.88</td>\n      <td>12.33</td>\n      <td>10.13</td>\n      <td>11.17</td>\n      <td>6.17</td>\n      <td>11.25</td>\n      <td>NaN</td>\n      <td>8.50</td>\n      <td>7.67</td>\n      <td>12.75</td>\n      <td>12.71</td>\n    </tr>\n    <tr>\n      <th>3</th>\n      <td>2061-01-04</td>\n      <td>10.58</td>\n      <td>6.63</td>\n      <td>11.75</td>\n      <td>4.58</td>\n      <td>4.54</td>\n      <td>2.88</td>\n      <td>8.63</td>\n      <td>1.79</td>\n      <td>5.83</td>\n      <td>5.88</td>\n      <td>5.46</td>\n      <td>10.88</td>\n    </tr>\n    <tr>\n      <th>4</th>\n      <td>2061-01-05</td>\n      <td>13.33</td>\n      <td>13.25</td>\n      <td>11.42</td>\n      <td>6.17</td>\n      <td>10.71</td>\n      <td>8.21</td>\n      <td>11.92</td>\n      <td>6.54</td>\n      <td>10.92</td>\n      <td>10.34</td>\n      <td>12.92</td>\n      <td>11.83</td>\n    </tr>\n  </tbody>\n</table>\n</div>"
     },
     "metadata": {},
     "execution_count": 138
    }
   ],
   "source": [
    "# parse_dates gets 0, 1, 2 columns and parses them as the index\n",
    "data_url = 'https://raw.githubusercontent.com/guipsamora/pandas_exercises/master/06_Stats/Wind_Stats/wind.data'\n",
    "data = pd.read_csv(data_url, sep = \"\\s+\", parse_dates=[[0,1,2]]) #> ese o, 1 y 2 son las 3 primeras columnas (Yr_Mo_Dy)\n",
    "data.head()"
   ]
  },
  {
   "cell_type": "code",
   "execution_count": null,
   "metadata": {
    "tags": []
   },
   "outputs": [],
   "source": [
    "data.info()"
   ]
  },
  {
   "cell_type": "markdown",
   "metadata": {},
   "source": [
    "### Step 4. Year 2061? Do we really have data from this year? Create a function to fix it and apply it."
   ]
  },
  {
   "cell_type": "code",
   "execution_count": 141,
   "metadata": {},
   "outputs": [
    {
     "output_type": "error",
     "ename": "AttributeError",
     "evalue": "type object 'datetime.datetime' has no attribute 'datetime'",
     "traceback": [
      "\u001b[1;31m---------------------------------------------------------------------------\u001b[0m",
      "\u001b[1;31mAttributeError\u001b[0m                            Traceback (most recent call last)",
      "\u001b[1;32m<ipython-input-141-212c1249c44b>\u001b[0m in \u001b[0;36m<module>\u001b[1;34m\u001b[0m\n\u001b[0;32m      1\u001b[0m \u001b[1;31m# New year's eve of 2020\u001b[0m\u001b[1;33m\u001b[0m\u001b[1;33m\u001b[0m\u001b[1;33m\u001b[0m\u001b[0m\n\u001b[0;32m      2\u001b[0m \u001b[1;33m\u001b[0m\u001b[0m\n\u001b[1;32m----> 3\u001b[1;33m \u001b[0mnewYearEve2020\u001b[0m \u001b[1;33m=\u001b[0m \u001b[0mdatetime\u001b[0m\u001b[1;33m.\u001b[0m\u001b[0mdatetime\u001b[0m\u001b[1;33m(\u001b[0m\u001b[1;36m2019\u001b[0m\u001b[1;33m,\u001b[0m \u001b[1;36m12\u001b[0m\u001b[1;33m,\u001b[0m \u001b[1;36m31\u001b[0m\u001b[1;33m,\u001b[0m \u001b[1;36m12\u001b[0m\u001b[1;33m,\u001b[0m \u001b[1;36m59\u001b[0m\u001b[1;33m,\u001b[0m \u001b[1;36m59\u001b[0m\u001b[1;33m,\u001b[0m \u001b[1;36m99\u001b[0m\u001b[1;33m)\u001b[0m\u001b[1;33m\u001b[0m\u001b[1;33m\u001b[0m\u001b[0m\n\u001b[0m\u001b[0;32m      4\u001b[0m \u001b[1;33m\u001b[0m\u001b[0m\n\u001b[0;32m      5\u001b[0m \u001b[1;31m# Make it the next day by calling replace function\u001b[0m\u001b[1;33m\u001b[0m\u001b[1;33m\u001b[0m\u001b[1;33m\u001b[0m\u001b[0m\n",
      "\u001b[1;31mAttributeError\u001b[0m: type object 'datetime.datetime' has no attribute 'datetime'"
     ]
    }
   ],
   "source": [
    "# New year's eve of 2020\n",
    "\n",
    "newYearEve2020 = datetime.datetime(2019, 12, 31, 12, 59, 59, 99)\n",
    "\n",
    "# Make it the next day by calling replace function\n",
    "\n",
    "newYearDate2020 = newYearEve2020.replace(2020, 1, 1, 00, 00, 00, 00)\n",
    "\n",
    "newYearDate2020"
   ]
  },
  {
   "cell_type": "code",
   "execution_count": 142,
   "metadata": {},
   "outputs": [
    {
     "output_type": "execute_result",
     "data": {
      "text/plain": "       Yr_Mo_Dy    RPT    VAL    ROS   KIL    SHA    BIR    DUB    CLA    MUL  \\\n3286 2069-12-31  14.42  13.83  27.71  7.08  12.08  10.00  14.58  11.00  12.54   \n3285 2069-12-30  16.25  13.25  23.42  8.04  10.04   8.17  16.79  11.42  11.92   \n3284 2069-12-29  18.66  15.96  19.38  6.38  13.54  10.08  14.29  11.46  10.58   \n3283 2069-12-28  18.34  18.00  15.75  6.08  13.29  11.34   9.71  11.87   9.21   \n3282 2069-12-27   6.71   6.21   5.29  0.42   5.96   4.17   3.04   5.25   2.17   \n...         ...    ...    ...    ...   ...    ...    ...    ...    ...    ...   \n3291 1970-01-05  10.46   5.29  10.83  3.63   4.75   5.29  12.33   5.83   6.79   \n3290 1970-01-04  11.21   7.38  11.58  2.13   3.29   1.13   8.92   4.92   5.54   \n3289 1970-01-03   8.08   7.46  11.71  3.58   4.50   3.63   5.13   4.75   3.13   \n3288 1970-01-02   9.00   4.29   6.75  4.58   5.79   6.58   8.58   6.21   9.59   \n3287 1970-01-01   9.59   2.96  11.79  3.42   6.13   4.08   9.00   4.46   7.29   \n\n        CLO    BEL    MAL  \n3286   7.12  11.17  17.41  \n3285  11.42  11.50  27.84  \n3284   9.59  13.75  25.04  \n3283   8.75  15.87  18.12  \n3282   3.75  12.46  13.21  \n...     ...    ...    ...  \n3291   6.21  11.83  20.21  \n3290   5.71   7.58  15.54  \n3289   2.50  12.54  18.25  \n3288   6.04  10.17  16.96  \n3287   3.50   7.33  13.00  \n\n[6574 rows x 13 columns]",
      "text/html": "<div>\n<style scoped>\n    .dataframe tbody tr th:only-of-type {\n        vertical-align: middle;\n    }\n\n    .dataframe tbody tr th {\n        vertical-align: top;\n    }\n\n    .dataframe thead th {\n        text-align: right;\n    }\n</style>\n<table border=\"1\" class=\"dataframe\">\n  <thead>\n    <tr style=\"text-align: right;\">\n      <th></th>\n      <th>Yr_Mo_Dy</th>\n      <th>RPT</th>\n      <th>VAL</th>\n      <th>ROS</th>\n      <th>KIL</th>\n      <th>SHA</th>\n      <th>BIR</th>\n      <th>DUB</th>\n      <th>CLA</th>\n      <th>MUL</th>\n      <th>CLO</th>\n      <th>BEL</th>\n      <th>MAL</th>\n    </tr>\n  </thead>\n  <tbody>\n    <tr>\n      <th>3286</th>\n      <td>2069-12-31</td>\n      <td>14.42</td>\n      <td>13.83</td>\n      <td>27.71</td>\n      <td>7.08</td>\n      <td>12.08</td>\n      <td>10.00</td>\n      <td>14.58</td>\n      <td>11.00</td>\n      <td>12.54</td>\n      <td>7.12</td>\n      <td>11.17</td>\n      <td>17.41</td>\n    </tr>\n    <tr>\n      <th>3285</th>\n      <td>2069-12-30</td>\n      <td>16.25</td>\n      <td>13.25</td>\n      <td>23.42</td>\n      <td>8.04</td>\n      <td>10.04</td>\n      <td>8.17</td>\n      <td>16.79</td>\n      <td>11.42</td>\n      <td>11.92</td>\n      <td>11.42</td>\n      <td>11.50</td>\n      <td>27.84</td>\n    </tr>\n    <tr>\n      <th>3284</th>\n      <td>2069-12-29</td>\n      <td>18.66</td>\n      <td>15.96</td>\n      <td>19.38</td>\n      <td>6.38</td>\n      <td>13.54</td>\n      <td>10.08</td>\n      <td>14.29</td>\n      <td>11.46</td>\n      <td>10.58</td>\n      <td>9.59</td>\n      <td>13.75</td>\n      <td>25.04</td>\n    </tr>\n    <tr>\n      <th>3283</th>\n      <td>2069-12-28</td>\n      <td>18.34</td>\n      <td>18.00</td>\n      <td>15.75</td>\n      <td>6.08</td>\n      <td>13.29</td>\n      <td>11.34</td>\n      <td>9.71</td>\n      <td>11.87</td>\n      <td>9.21</td>\n      <td>8.75</td>\n      <td>15.87</td>\n      <td>18.12</td>\n    </tr>\n    <tr>\n      <th>3282</th>\n      <td>2069-12-27</td>\n      <td>6.71</td>\n      <td>6.21</td>\n      <td>5.29</td>\n      <td>0.42</td>\n      <td>5.96</td>\n      <td>4.17</td>\n      <td>3.04</td>\n      <td>5.25</td>\n      <td>2.17</td>\n      <td>3.75</td>\n      <td>12.46</td>\n      <td>13.21</td>\n    </tr>\n    <tr>\n      <th>...</th>\n      <td>...</td>\n      <td>...</td>\n      <td>...</td>\n      <td>...</td>\n      <td>...</td>\n      <td>...</td>\n      <td>...</td>\n      <td>...</td>\n      <td>...</td>\n      <td>...</td>\n      <td>...</td>\n      <td>...</td>\n      <td>...</td>\n    </tr>\n    <tr>\n      <th>3291</th>\n      <td>1970-01-05</td>\n      <td>10.46</td>\n      <td>5.29</td>\n      <td>10.83</td>\n      <td>3.63</td>\n      <td>4.75</td>\n      <td>5.29</td>\n      <td>12.33</td>\n      <td>5.83</td>\n      <td>6.79</td>\n      <td>6.21</td>\n      <td>11.83</td>\n      <td>20.21</td>\n    </tr>\n    <tr>\n      <th>3290</th>\n      <td>1970-01-04</td>\n      <td>11.21</td>\n      <td>7.38</td>\n      <td>11.58</td>\n      <td>2.13</td>\n      <td>3.29</td>\n      <td>1.13</td>\n      <td>8.92</td>\n      <td>4.92</td>\n      <td>5.54</td>\n      <td>5.71</td>\n      <td>7.58</td>\n      <td>15.54</td>\n    </tr>\n    <tr>\n      <th>3289</th>\n      <td>1970-01-03</td>\n      <td>8.08</td>\n      <td>7.46</td>\n      <td>11.71</td>\n      <td>3.58</td>\n      <td>4.50</td>\n      <td>3.63</td>\n      <td>5.13</td>\n      <td>4.75</td>\n      <td>3.13</td>\n      <td>2.50</td>\n      <td>12.54</td>\n      <td>18.25</td>\n    </tr>\n    <tr>\n      <th>3288</th>\n      <td>1970-01-02</td>\n      <td>9.00</td>\n      <td>4.29</td>\n      <td>6.75</td>\n      <td>4.58</td>\n      <td>5.79</td>\n      <td>6.58</td>\n      <td>8.58</td>\n      <td>6.21</td>\n      <td>9.59</td>\n      <td>6.04</td>\n      <td>10.17</td>\n      <td>16.96</td>\n    </tr>\n    <tr>\n      <th>3287</th>\n      <td>1970-01-01</td>\n      <td>9.59</td>\n      <td>2.96</td>\n      <td>11.79</td>\n      <td>3.42</td>\n      <td>6.13</td>\n      <td>4.08</td>\n      <td>9.00</td>\n      <td>4.46</td>\n      <td>7.29</td>\n      <td>3.50</td>\n      <td>7.33</td>\n      <td>13.00</td>\n    </tr>\n  </tbody>\n</table>\n<p>6574 rows × 13 columns</p>\n</div>"
     },
     "metadata": {},
     "execution_count": 142
    }
   ],
   "source": [
    "x = data.sort_values(\"Yr_Mo_Dy\", ascending=0)\n",
    "x"
   ]
  },
  {
   "cell_type": "code",
   "execution_count": 143,
   "metadata": {},
   "outputs": [
    {
     "output_type": "error",
     "ename": "TypeError",
     "evalue": "descriptor 'date' for 'datetime.datetime' objects doesn't apply to a 'int' object",
     "traceback": [
      "\u001b[1;31m---------------------------------------------------------------------------\u001b[0m",
      "\u001b[1;31mTypeError\u001b[0m                                 Traceback (most recent call last)",
      "\u001b[1;32m<ipython-input-143-730d73a91d18>\u001b[0m in \u001b[0;36m<module>\u001b[1;34m\u001b[0m\n\u001b[0;32m     13\u001b[0m \u001b[1;33m\u001b[0m\u001b[0m\n\u001b[0;32m     14\u001b[0m \u001b[1;31m# apply the function fix_century on the column and replace the values to the right ones\u001b[0m\u001b[1;33m\u001b[0m\u001b[1;33m\u001b[0m\u001b[1;33m\u001b[0m\u001b[0m\n\u001b[1;32m---> 15\u001b[1;33m \u001b[0mdata\u001b[0m\u001b[1;33m[\u001b[0m\u001b[1;34m'Yr_Mo_Dy'\u001b[0m\u001b[1;33m]\u001b[0m \u001b[1;33m=\u001b[0m \u001b[0mdata\u001b[0m\u001b[1;33m[\u001b[0m\u001b[1;34m'Yr_Mo_Dy'\u001b[0m\u001b[1;33m]\u001b[0m\u001b[1;33m.\u001b[0m\u001b[0mapply\u001b[0m\u001b[1;33m(\u001b[0m\u001b[0mfix_century\u001b[0m\u001b[1;33m)\u001b[0m\u001b[1;33m\u001b[0m\u001b[1;33m\u001b[0m\u001b[0m\n\u001b[0m\u001b[0;32m     16\u001b[0m \u001b[1;33m\u001b[0m\u001b[0m\n\u001b[0;32m     17\u001b[0m \u001b[1;31m# data.info()\u001b[0m\u001b[1;33m\u001b[0m\u001b[1;33m\u001b[0m\u001b[1;33m\u001b[0m\u001b[0m\n",
      "\u001b[1;32m~\\AppData\\Local\\Programs\\Python\\Python38-32\\lib\\site-packages\\pandas\\core\\series.py\u001b[0m in \u001b[0;36mapply\u001b[1;34m(self, func, convert_dtype, args, **kwds)\u001b[0m\n\u001b[0;32m   3846\u001b[0m             \u001b[1;32melse\u001b[0m\u001b[1;33m:\u001b[0m\u001b[1;33m\u001b[0m\u001b[1;33m\u001b[0m\u001b[0m\n\u001b[0;32m   3847\u001b[0m                 \u001b[0mvalues\u001b[0m \u001b[1;33m=\u001b[0m \u001b[0mself\u001b[0m\u001b[1;33m.\u001b[0m\u001b[0mastype\u001b[0m\u001b[1;33m(\u001b[0m\u001b[0mobject\u001b[0m\u001b[1;33m)\u001b[0m\u001b[1;33m.\u001b[0m\u001b[0mvalues\u001b[0m\u001b[1;33m\u001b[0m\u001b[1;33m\u001b[0m\u001b[0m\n\u001b[1;32m-> 3848\u001b[1;33m                 \u001b[0mmapped\u001b[0m \u001b[1;33m=\u001b[0m \u001b[0mlib\u001b[0m\u001b[1;33m.\u001b[0m\u001b[0mmap_infer\u001b[0m\u001b[1;33m(\u001b[0m\u001b[0mvalues\u001b[0m\u001b[1;33m,\u001b[0m \u001b[0mf\u001b[0m\u001b[1;33m,\u001b[0m \u001b[0mconvert\u001b[0m\u001b[1;33m=\u001b[0m\u001b[0mconvert_dtype\u001b[0m\u001b[1;33m)\u001b[0m\u001b[1;33m\u001b[0m\u001b[1;33m\u001b[0m\u001b[0m\n\u001b[0m\u001b[0;32m   3849\u001b[0m \u001b[1;33m\u001b[0m\u001b[0m\n\u001b[0;32m   3850\u001b[0m         \u001b[1;32mif\u001b[0m \u001b[0mlen\u001b[0m\u001b[1;33m(\u001b[0m\u001b[0mmapped\u001b[0m\u001b[1;33m)\u001b[0m \u001b[1;32mand\u001b[0m \u001b[0misinstance\u001b[0m\u001b[1;33m(\u001b[0m\u001b[0mmapped\u001b[0m\u001b[1;33m[\u001b[0m\u001b[1;36m0\u001b[0m\u001b[1;33m]\u001b[0m\u001b[1;33m,\u001b[0m \u001b[0mSeries\u001b[0m\u001b[1;33m)\u001b[0m\u001b[1;33m:\u001b[0m\u001b[1;33m\u001b[0m\u001b[1;33m\u001b[0m\u001b[0m\n",
      "\u001b[1;32mpandas\\_libs\\lib.pyx\u001b[0m in \u001b[0;36mpandas._libs.lib.map_infer\u001b[1;34m()\u001b[0m\n",
      "\u001b[1;32m<ipython-input-143-730d73a91d18>\u001b[0m in \u001b[0;36mfix_century\u001b[1;34m(x)\u001b[0m\n\u001b[0;32m      4\u001b[0m \u001b[1;32mdef\u001b[0m \u001b[0mfix_century\u001b[0m\u001b[1;33m(\u001b[0m\u001b[0mx\u001b[0m\u001b[1;33m)\u001b[0m\u001b[1;33m:\u001b[0m\u001b[1;33m\u001b[0m\u001b[1;33m\u001b[0m\u001b[0m\n\u001b[0;32m      5\u001b[0m   \u001b[0myear\u001b[0m \u001b[1;33m=\u001b[0m \u001b[0mx\u001b[0m\u001b[1;33m.\u001b[0m\u001b[0myear\u001b[0m \u001b[1;33m-\u001b[0m \u001b[1;36m100\u001b[0m \u001b[1;32mif\u001b[0m \u001b[0mx\u001b[0m\u001b[1;33m.\u001b[0m\u001b[0myear\u001b[0m \u001b[1;33m>\u001b[0m \u001b[1;36m1999\u001b[0m \u001b[1;32melse\u001b[0m \u001b[0mx\u001b[0m\u001b[1;33m.\u001b[0m\u001b[0myear\u001b[0m\u001b[1;33m\u001b[0m\u001b[1;33m\u001b[0m\u001b[0m\n\u001b[1;32m----> 6\u001b[1;33m   \u001b[1;32mreturn\u001b[0m \u001b[0mdatetime\u001b[0m\u001b[1;33m.\u001b[0m\u001b[0mdate\u001b[0m\u001b[1;33m(\u001b[0m\u001b[0myear\u001b[0m\u001b[1;33m,\u001b[0m \u001b[0mx\u001b[0m\u001b[1;33m.\u001b[0m\u001b[0mmonth\u001b[0m\u001b[1;33m,\u001b[0m \u001b[0mx\u001b[0m\u001b[1;33m.\u001b[0m\u001b[0mday\u001b[0m\u001b[1;33m)\u001b[0m\u001b[1;33m\u001b[0m\u001b[1;33m\u001b[0m\u001b[0m\n\u001b[0m\u001b[0;32m      7\u001b[0m \u001b[1;33m\u001b[0m\u001b[0m\n\u001b[0;32m      8\u001b[0m \u001b[1;31m# function that uses datetime\u001b[0m\u001b[1;33m\u001b[0m\u001b[1;33m\u001b[0m\u001b[1;33m\u001b[0m\u001b[0m\n",
      "\u001b[1;31mTypeError\u001b[0m: descriptor 'date' for 'datetime.datetime' objects doesn't apply to a 'int' object"
     ]
    }
   ],
   "source": [
    "# The problem is that the dates are 2061 and so on...\n",
    "\n",
    "# function that uses datetime\n",
    "def fix_century(x):\n",
    "  year = x.year - 100 if x.year > 1999 else x.year\n",
    "  return datetime.date(year, x.month, x.day)\n",
    "\n",
    "# function that uses datetime\n",
    "def fix_century_v2(x):\n",
    "  year = x.year - 100 if x.year > 1989 else x.year\n",
    "  new_date = x.replace(year, x.month, x.day, x.hour, x.minute, x.seconds)\n",
    "  return new_date\n",
    "\n",
    "# apply the function fix_century on the column and replace the values to the right ones\n",
    "data['Yr_Mo_Dy'] = data['Yr_Mo_Dy'].apply(fix_century)\n",
    "\n",
    "# data.info()\n",
    "data.head()"
   ]
  },
  {
   "cell_type": "markdown",
   "metadata": {},
   "source": [
    "### Step 5. Set the right dates as the index. Pay attention at the data type, it should be datetime64[ns]."
   ]
  },
  {
   "cell_type": "code",
   "execution_count": 144,
   "metadata": {},
   "outputs": [
    {
     "output_type": "execute_result",
     "data": {
      "text/plain": "              RPT    VAL    ROS    KIL    SHA   BIR    DUB    CLA    MUL  \\\nYr_Mo_Dy                                                                   \n2061-01-01  15.04  14.96  13.17   9.29    NaN  9.87  13.67  10.25  10.83   \n2061-01-02  14.71    NaN  10.83   6.50  12.62  7.67  11.50  10.04   9.79   \n2061-01-03  18.50  16.88  12.33  10.13  11.17  6.17  11.25    NaN   8.50   \n2061-01-04  10.58   6.63  11.75   4.58   4.54  2.88   8.63   1.79   5.83   \n2061-01-05  13.33  13.25  11.42   6.17  10.71  8.21  11.92   6.54  10.92   \n\n              CLO    BEL    MAL  \nYr_Mo_Dy                         \n2061-01-01  12.58  18.50  15.04  \n2061-01-02   9.67  17.54  13.83  \n2061-01-03   7.67  12.75  12.71  \n2061-01-04   5.88   5.46  10.88  \n2061-01-05  10.34  12.92  11.83  ",
      "text/html": "<div>\n<style scoped>\n    .dataframe tbody tr th:only-of-type {\n        vertical-align: middle;\n    }\n\n    .dataframe tbody tr th {\n        vertical-align: top;\n    }\n\n    .dataframe thead th {\n        text-align: right;\n    }\n</style>\n<table border=\"1\" class=\"dataframe\">\n  <thead>\n    <tr style=\"text-align: right;\">\n      <th></th>\n      <th>RPT</th>\n      <th>VAL</th>\n      <th>ROS</th>\n      <th>KIL</th>\n      <th>SHA</th>\n      <th>BIR</th>\n      <th>DUB</th>\n      <th>CLA</th>\n      <th>MUL</th>\n      <th>CLO</th>\n      <th>BEL</th>\n      <th>MAL</th>\n    </tr>\n    <tr>\n      <th>Yr_Mo_Dy</th>\n      <th></th>\n      <th></th>\n      <th></th>\n      <th></th>\n      <th></th>\n      <th></th>\n      <th></th>\n      <th></th>\n      <th></th>\n      <th></th>\n      <th></th>\n      <th></th>\n    </tr>\n  </thead>\n  <tbody>\n    <tr>\n      <th>2061-01-01</th>\n      <td>15.04</td>\n      <td>14.96</td>\n      <td>13.17</td>\n      <td>9.29</td>\n      <td>NaN</td>\n      <td>9.87</td>\n      <td>13.67</td>\n      <td>10.25</td>\n      <td>10.83</td>\n      <td>12.58</td>\n      <td>18.50</td>\n      <td>15.04</td>\n    </tr>\n    <tr>\n      <th>2061-01-02</th>\n      <td>14.71</td>\n      <td>NaN</td>\n      <td>10.83</td>\n      <td>6.50</td>\n      <td>12.62</td>\n      <td>7.67</td>\n      <td>11.50</td>\n      <td>10.04</td>\n      <td>9.79</td>\n      <td>9.67</td>\n      <td>17.54</td>\n      <td>13.83</td>\n    </tr>\n    <tr>\n      <th>2061-01-03</th>\n      <td>18.50</td>\n      <td>16.88</td>\n      <td>12.33</td>\n      <td>10.13</td>\n      <td>11.17</td>\n      <td>6.17</td>\n      <td>11.25</td>\n      <td>NaN</td>\n      <td>8.50</td>\n      <td>7.67</td>\n      <td>12.75</td>\n      <td>12.71</td>\n    </tr>\n    <tr>\n      <th>2061-01-04</th>\n      <td>10.58</td>\n      <td>6.63</td>\n      <td>11.75</td>\n      <td>4.58</td>\n      <td>4.54</td>\n      <td>2.88</td>\n      <td>8.63</td>\n      <td>1.79</td>\n      <td>5.83</td>\n      <td>5.88</td>\n      <td>5.46</td>\n      <td>10.88</td>\n    </tr>\n    <tr>\n      <th>2061-01-05</th>\n      <td>13.33</td>\n      <td>13.25</td>\n      <td>11.42</td>\n      <td>6.17</td>\n      <td>10.71</td>\n      <td>8.21</td>\n      <td>11.92</td>\n      <td>6.54</td>\n      <td>10.92</td>\n      <td>10.34</td>\n      <td>12.92</td>\n      <td>11.83</td>\n    </tr>\n  </tbody>\n</table>\n</div>"
     },
     "metadata": {},
     "execution_count": 144
    }
   ],
   "source": [
    "# transform Yr_Mo_Dy it to date type datetime64\n",
    "data[\"Yr_Mo_Dy\"] = pd.to_datetime(data[\"Yr_Mo_Dy\"])\n",
    "\n",
    "# set 'Yr_Mo_Dy' as the index\n",
    "data = data.set_index('Yr_Mo_Dy')\n",
    "\n",
    "data.head()\n",
    "# data.info()"
   ]
  },
  {
   "cell_type": "markdown",
   "metadata": {},
   "source": [
    "### Step 6. Compute how many values are missing for each location over the entire record.  \n",
    "#### They should be ignored in all calculations below. "
   ]
  },
  {
   "cell_type": "code",
   "execution_count": 145,
   "metadata": {},
   "outputs": [
    {
     "output_type": "execute_result",
     "data": {
      "text/plain": "RPT    6\nVAL    3\nROS    2\nKIL    5\nSHA    2\nBIR    0\nDUB    3\nCLA    2\nMUL    3\nCLO    1\nBEL    0\nMAL    4\ndtype: int64"
     },
     "metadata": {},
     "execution_count": 145
    }
   ],
   "source": [
    "# \"Number of non-missing values for each location: \"\n",
    "data.isnull().sum()"
   ]
  },
  {
   "cell_type": "markdown",
   "metadata": {},
   "source": [
    "### Step 7. Compute how many non-missing values there are in total."
   ]
  },
  {
   "cell_type": "code",
   "execution_count": 146,
   "metadata": {},
   "outputs": [
    {
     "output_type": "execute_result",
     "data": {
      "text/plain": "RPT    6568\nVAL    6571\nROS    6572\nKIL    6569\nSHA    6572\nBIR    6574\nDUB    6571\nCLA    6572\nMUL    6571\nCLO    6573\nBEL    6574\nMAL    6570\ndtype: int64"
     },
     "metadata": {},
     "execution_count": 146
    }
   ],
   "source": [
    "#number of columns minus the number of missing values for each location\n",
    "data.shape[0] - data.isnull().sum()\n",
    "\n",
    "#or\n",
    "\n",
    "data.notnull().sum()"
   ]
  },
  {
   "cell_type": "markdown",
   "metadata": {},
   "source": [
    "### Step 8. Calculate the mean windspeeds of the windspeeds over all the locations and all the times.\n",
    "#### A single number for the entire dataset."
   ]
  },
  {
   "cell_type": "code",
   "execution_count": 147,
   "metadata": {},
   "outputs": [
    {
     "output_type": "execute_result",
     "data": {
      "text/plain": "10.227883764282167"
     },
     "metadata": {},
     "execution_count": 147
    }
   ],
   "source": [
    "data.sum().sum() / data.notna().sum().sum() #sum.sum suma tanto columnas como filas \n",
    "#data.notna.sum.sum suma de todos los elementos no nulos tanto de filas como columnas (osea, todo)"
   ]
  },
  {
   "cell_type": "markdown",
   "metadata": {},
   "source": [
    "### Step 9. Create a DataFrame called loc_stats and calculate the min, max and mean windspeeds and standard deviations of the windspeeds at each location over all the days \n",
    "\n",
    "#### A different set of numbers for each location."
   ]
  },
  {
   "cell_type": "code",
   "execution_count": 148,
   "metadata": {},
   "outputs": [
    {
     "output_type": "execute_result",
     "data": {
      "text/plain": "               RPT          VAL          ROS          KIL          SHA  \\\ncount  6568.000000  6571.000000  6572.000000  6569.000000  6572.000000   \nmean     12.362987    10.644314    11.660526     6.306468    10.455834   \nstd       5.618413     5.267356     5.008450     3.605811     4.936125   \nmin       0.670000     0.210000     1.500000     0.000000     0.130000   \n50%      11.710000    10.170000    10.920000     5.750000     9.960000   \nmax      35.800000    33.370000    33.840000    28.460000    37.540000   \n\n               BIR          DUB          CLA          MUL          CLO  \\\ncount  6574.000000  6571.000000  6572.000000  6571.000000  6573.000000   \nmean      7.092254     9.797343     8.495053     8.493590     8.707332   \nstd       3.968683     4.977555     4.499449     4.166872     4.503954   \nmin       0.000000     0.000000     0.000000     0.000000     0.040000   \n50%       6.830000     9.210000     8.080000     8.170000     8.290000   \nmax      26.160000    30.370000    31.080000    25.880000    28.210000   \n\n               BEL          MAL  \ncount  6574.000000  6570.000000  \nmean     13.121007    15.599079  \nstd       5.835037     6.699794  \nmin       0.130000     0.670000  \n50%      12.500000    15.000000  \nmax      42.380000    42.540000  ",
      "text/html": "<div>\n<style scoped>\n    .dataframe tbody tr th:only-of-type {\n        vertical-align: middle;\n    }\n\n    .dataframe tbody tr th {\n        vertical-align: top;\n    }\n\n    .dataframe thead th {\n        text-align: right;\n    }\n</style>\n<table border=\"1\" class=\"dataframe\">\n  <thead>\n    <tr style=\"text-align: right;\">\n      <th></th>\n      <th>RPT</th>\n      <th>VAL</th>\n      <th>ROS</th>\n      <th>KIL</th>\n      <th>SHA</th>\n      <th>BIR</th>\n      <th>DUB</th>\n      <th>CLA</th>\n      <th>MUL</th>\n      <th>CLO</th>\n      <th>BEL</th>\n      <th>MAL</th>\n    </tr>\n  </thead>\n  <tbody>\n    <tr>\n      <th>count</th>\n      <td>6568.000000</td>\n      <td>6571.000000</td>\n      <td>6572.000000</td>\n      <td>6569.000000</td>\n      <td>6572.000000</td>\n      <td>6574.000000</td>\n      <td>6571.000000</td>\n      <td>6572.000000</td>\n      <td>6571.000000</td>\n      <td>6573.000000</td>\n      <td>6574.000000</td>\n      <td>6570.000000</td>\n    </tr>\n    <tr>\n      <th>mean</th>\n      <td>12.362987</td>\n      <td>10.644314</td>\n      <td>11.660526</td>\n      <td>6.306468</td>\n      <td>10.455834</td>\n      <td>7.092254</td>\n      <td>9.797343</td>\n      <td>8.495053</td>\n      <td>8.493590</td>\n      <td>8.707332</td>\n      <td>13.121007</td>\n      <td>15.599079</td>\n    </tr>\n    <tr>\n      <th>std</th>\n      <td>5.618413</td>\n      <td>5.267356</td>\n      <td>5.008450</td>\n      <td>3.605811</td>\n      <td>4.936125</td>\n      <td>3.968683</td>\n      <td>4.977555</td>\n      <td>4.499449</td>\n      <td>4.166872</td>\n      <td>4.503954</td>\n      <td>5.835037</td>\n      <td>6.699794</td>\n    </tr>\n    <tr>\n      <th>min</th>\n      <td>0.670000</td>\n      <td>0.210000</td>\n      <td>1.500000</td>\n      <td>0.000000</td>\n      <td>0.130000</td>\n      <td>0.000000</td>\n      <td>0.000000</td>\n      <td>0.000000</td>\n      <td>0.000000</td>\n      <td>0.040000</td>\n      <td>0.130000</td>\n      <td>0.670000</td>\n    </tr>\n    <tr>\n      <th>50%</th>\n      <td>11.710000</td>\n      <td>10.170000</td>\n      <td>10.920000</td>\n      <td>5.750000</td>\n      <td>9.960000</td>\n      <td>6.830000</td>\n      <td>9.210000</td>\n      <td>8.080000</td>\n      <td>8.170000</td>\n      <td>8.290000</td>\n      <td>12.500000</td>\n      <td>15.000000</td>\n    </tr>\n    <tr>\n      <th>max</th>\n      <td>35.800000</td>\n      <td>33.370000</td>\n      <td>33.840000</td>\n      <td>28.460000</td>\n      <td>37.540000</td>\n      <td>26.160000</td>\n      <td>30.370000</td>\n      <td>31.080000</td>\n      <td>25.880000</td>\n      <td>28.210000</td>\n      <td>42.380000</td>\n      <td>42.540000</td>\n    </tr>\n  </tbody>\n</table>\n</div>"
     },
     "metadata": {},
     "execution_count": 148
    }
   ],
   "source": [
    "data.describe(percentiles=[])"
   ]
  },
  {
   "cell_type": "markdown",
   "metadata": {},
   "source": [
    "### Step 10. Create a DataFrame called day_stats and calculate the min, max and mean windspeed and standard deviations of the windspeeds across all the locations at each day.\n",
    "\n",
    "#### A different set of numbers for each day."
   ]
  },
  {
   "cell_type": "code",
   "execution_count": 149,
   "metadata": {},
   "outputs": [
    {
     "output_type": "execute_result",
     "data": {
      "text/plain": "             min    max       mean       std\nYr_Mo_Dy                                    \n2061-01-01  9.29  18.50  13.018182  2.808875\n2061-01-02  6.50  17.54  11.336364  3.188994\n2061-01-03  6.17  18.50  11.641818  3.681912\n2061-01-04  1.79  11.75   6.619167  3.198126\n2061-01-05  6.17  13.33  10.630000  2.445356",
      "text/html": "<div>\n<style scoped>\n    .dataframe tbody tr th:only-of-type {\n        vertical-align: middle;\n    }\n\n    .dataframe tbody tr th {\n        vertical-align: top;\n    }\n\n    .dataframe thead th {\n        text-align: right;\n    }\n</style>\n<table border=\"1\" class=\"dataframe\">\n  <thead>\n    <tr style=\"text-align: right;\">\n      <th></th>\n      <th>min</th>\n      <th>max</th>\n      <th>mean</th>\n      <th>std</th>\n    </tr>\n    <tr>\n      <th>Yr_Mo_Dy</th>\n      <th></th>\n      <th></th>\n      <th></th>\n      <th></th>\n    </tr>\n  </thead>\n  <tbody>\n    <tr>\n      <th>2061-01-01</th>\n      <td>9.29</td>\n      <td>18.50</td>\n      <td>13.018182</td>\n      <td>2.808875</td>\n    </tr>\n    <tr>\n      <th>2061-01-02</th>\n      <td>6.50</td>\n      <td>17.54</td>\n      <td>11.336364</td>\n      <td>3.188994</td>\n    </tr>\n    <tr>\n      <th>2061-01-03</th>\n      <td>6.17</td>\n      <td>18.50</td>\n      <td>11.641818</td>\n      <td>3.681912</td>\n    </tr>\n    <tr>\n      <th>2061-01-04</th>\n      <td>1.79</td>\n      <td>11.75</td>\n      <td>6.619167</td>\n      <td>3.198126</td>\n    </tr>\n    <tr>\n      <th>2061-01-05</th>\n      <td>6.17</td>\n      <td>13.33</td>\n      <td>10.630000</td>\n      <td>2.445356</td>\n    </tr>\n  </tbody>\n</table>\n</div>"
     },
     "metadata": {},
     "execution_count": 149
    }
   ],
   "source": [
    "# create the dataframe\n",
    "day_stats = pd.DataFrame()#esto, al contrario que el .describe, me calcula todos estos valores (media, st ...) por filas \n",
    "\n",
    "# this time we determine axis equals to one so it gets each row.\n",
    "day_stats['min'] = data.min(axis = 1) # min\n",
    "day_stats['max'] = data.max(axis = 1) # max \n",
    "day_stats['mean'] = data.mean(axis = 1) # mean\n",
    "day_stats['std'] = data.std(axis = 1) # standard deviations\n",
    "\n",
    "day_stats.head()"
   ]
  },
  {
   "cell_type": "markdown",
   "metadata": {},
   "source": [
    "### Step 11. Find the average windspeed in January for each location.  \n",
    "#### Treat January 1961 and January 1962 both as January."
   ]
  },
  {
   "cell_type": "code",
   "execution_count": 150,
   "metadata": {},
   "outputs": [
    {
     "output_type": "execute_result",
     "data": {
      "text/plain": "RPT    14.847325\nVAL    12.914560\nROS    13.299624\nKIL     7.199498\nSHA    11.667734\nBIR     8.054839\nDUB    11.819355\nCLA     9.512047\nMUL     9.543208\nCLO    10.053566\nBEL    14.550520\nMAL    18.028763\ndtype: float64"
     },
     "metadata": {},
     "execution_count": 150
    }
   ],
   "source": [
    "data.loc[data.index.month == 1].mean()"
   ]
  },
  {
   "cell_type": "markdown",
   "metadata": {},
   "source": [
    "### Step 12. Downsample the record to a yearly frequency for each location."
   ]
  },
  {
   "cell_type": "code",
   "execution_count": 151,
   "metadata": {},
   "outputs": [
    {
     "output_type": "execute_result",
     "data": {
      "text/plain": "                RPT        VAL        ROS       KIL        SHA       BIR  \\\nYr_Mo_Dy                                                                   \n1970      12.600329  10.726932  11.730247  6.217178  10.567370  7.609452   \n1971      11.273123   9.095178  11.088329  5.241507   9.440329  6.097151   \n1972      12.463962  10.561311  12.058333  5.929699   9.430410  6.358825   \n1973      11.828466  10.680493  10.680493  5.547863   9.640877  6.548740   \n1974      13.643096  11.811781  12.336356  6.427041  11.110986  6.809781   \n1975      12.008575  10.293836  11.564712  5.269096   9.190082  5.668521   \n1976      11.737842  10.203115  10.761230  5.109426   8.846339  6.311038   \n1977      13.099616  11.144493  12.627836  6.073945  10.003836  8.586438   \n1978      12.504356  11.044274  11.380000  6.082356  10.167233  7.650658   \n2061      12.299583  10.351796  11.362369  6.958227  10.881763  7.729726   \n2062      12.246923  10.110438  11.732712  6.960440  10.657918  7.393068   \n2063      12.813452  10.836986  12.541151  7.330055  11.724110  8.434712   \n2064      12.363661  10.920164  12.104372  6.787787  11.454481  7.570874   \n2065      12.451370  11.075534  11.848767  6.858466  11.024795  7.478110   \n2066      13.461973  11.557205  12.020630  7.345726  11.805041  7.793671   \n2067      12.737151  10.990986  11.739397  7.143425  11.630740  7.368164   \n2068      11.835628  10.468197  11.409754  6.477678  10.760765  6.067322   \n2069      11.166356   9.723699  10.902000  5.767973   9.873918  6.189973   \n\n                DUB        CLA       MUL        CLO        BEL        MAL  \nYr_Mo_Dy                                                                   \n1970       9.609890   8.334630  9.297616   8.289808  13.183644  16.456027  \n1971       8.385890   6.757315  7.915370   7.229753  12.208932  15.025233  \n1972       9.704508   7.680792  8.357295   7.515273  12.727377  15.028716  \n1973       8.482110   7.614274  8.245534   7.812411  12.169699  15.441096  \n1974      10.084603   9.896986  9.331753   8.736356  13.252959  16.947671  \n1975       8.562603   7.843836  8.797945   7.382822  12.631671  15.307863  \n1976       9.149126   7.146202  8.883716   7.883087  12.332377  15.471448  \n1977      11.523205   8.378384  9.098192   8.821616  13.459068  16.590849  \n1978       9.489342   8.800466  9.089753   8.301699  12.967397  16.771370  \n2061       9.733923   8.858788  8.647652   9.835577  13.502795  13.680773  \n2062      11.020712   8.793753  8.316822   9.676247  12.930685  14.323956  \n2063      11.075699  10.336548  8.903589  10.224438  13.638877  14.999014  \n2064      10.259153   9.467350  7.789016  10.207951  13.740546  14.910301  \n2065      10.618712   8.879918  7.907425   9.918082  12.964247  15.591644  \n2066      10.579808   8.835096  8.514438   9.768959  14.265836  16.307260  \n2067      10.652027   9.325616  8.645014   9.547425  14.774548  17.135945  \n2068       8.859180   8.255519  7.224945   7.832978  12.808634  15.017486  \n2069       8.564493   7.711397  7.924521   7.754384  12.621233  15.762904  ",
      "text/html": "<div>\n<style scoped>\n    .dataframe tbody tr th:only-of-type {\n        vertical-align: middle;\n    }\n\n    .dataframe tbody tr th {\n        vertical-align: top;\n    }\n\n    .dataframe thead th {\n        text-align: right;\n    }\n</style>\n<table border=\"1\" class=\"dataframe\">\n  <thead>\n    <tr style=\"text-align: right;\">\n      <th></th>\n      <th>RPT</th>\n      <th>VAL</th>\n      <th>ROS</th>\n      <th>KIL</th>\n      <th>SHA</th>\n      <th>BIR</th>\n      <th>DUB</th>\n      <th>CLA</th>\n      <th>MUL</th>\n      <th>CLO</th>\n      <th>BEL</th>\n      <th>MAL</th>\n    </tr>\n    <tr>\n      <th>Yr_Mo_Dy</th>\n      <th></th>\n      <th></th>\n      <th></th>\n      <th></th>\n      <th></th>\n      <th></th>\n      <th></th>\n      <th></th>\n      <th></th>\n      <th></th>\n      <th></th>\n      <th></th>\n    </tr>\n  </thead>\n  <tbody>\n    <tr>\n      <th>1970</th>\n      <td>12.600329</td>\n      <td>10.726932</td>\n      <td>11.730247</td>\n      <td>6.217178</td>\n      <td>10.567370</td>\n      <td>7.609452</td>\n      <td>9.609890</td>\n      <td>8.334630</td>\n      <td>9.297616</td>\n      <td>8.289808</td>\n      <td>13.183644</td>\n      <td>16.456027</td>\n    </tr>\n    <tr>\n      <th>1971</th>\n      <td>11.273123</td>\n      <td>9.095178</td>\n      <td>11.088329</td>\n      <td>5.241507</td>\n      <td>9.440329</td>\n      <td>6.097151</td>\n      <td>8.385890</td>\n      <td>6.757315</td>\n      <td>7.915370</td>\n      <td>7.229753</td>\n      <td>12.208932</td>\n      <td>15.025233</td>\n    </tr>\n    <tr>\n      <th>1972</th>\n      <td>12.463962</td>\n      <td>10.561311</td>\n      <td>12.058333</td>\n      <td>5.929699</td>\n      <td>9.430410</td>\n      <td>6.358825</td>\n      <td>9.704508</td>\n      <td>7.680792</td>\n      <td>8.357295</td>\n      <td>7.515273</td>\n      <td>12.727377</td>\n      <td>15.028716</td>\n    </tr>\n    <tr>\n      <th>1973</th>\n      <td>11.828466</td>\n      <td>10.680493</td>\n      <td>10.680493</td>\n      <td>5.547863</td>\n      <td>9.640877</td>\n      <td>6.548740</td>\n      <td>8.482110</td>\n      <td>7.614274</td>\n      <td>8.245534</td>\n      <td>7.812411</td>\n      <td>12.169699</td>\n      <td>15.441096</td>\n    </tr>\n    <tr>\n      <th>1974</th>\n      <td>13.643096</td>\n      <td>11.811781</td>\n      <td>12.336356</td>\n      <td>6.427041</td>\n      <td>11.110986</td>\n      <td>6.809781</td>\n      <td>10.084603</td>\n      <td>9.896986</td>\n      <td>9.331753</td>\n      <td>8.736356</td>\n      <td>13.252959</td>\n      <td>16.947671</td>\n    </tr>\n    <tr>\n      <th>1975</th>\n      <td>12.008575</td>\n      <td>10.293836</td>\n      <td>11.564712</td>\n      <td>5.269096</td>\n      <td>9.190082</td>\n      <td>5.668521</td>\n      <td>8.562603</td>\n      <td>7.843836</td>\n      <td>8.797945</td>\n      <td>7.382822</td>\n      <td>12.631671</td>\n      <td>15.307863</td>\n    </tr>\n    <tr>\n      <th>1976</th>\n      <td>11.737842</td>\n      <td>10.203115</td>\n      <td>10.761230</td>\n      <td>5.109426</td>\n      <td>8.846339</td>\n      <td>6.311038</td>\n      <td>9.149126</td>\n      <td>7.146202</td>\n      <td>8.883716</td>\n      <td>7.883087</td>\n      <td>12.332377</td>\n      <td>15.471448</td>\n    </tr>\n    <tr>\n      <th>1977</th>\n      <td>13.099616</td>\n      <td>11.144493</td>\n      <td>12.627836</td>\n      <td>6.073945</td>\n      <td>10.003836</td>\n      <td>8.586438</td>\n      <td>11.523205</td>\n      <td>8.378384</td>\n      <td>9.098192</td>\n      <td>8.821616</td>\n      <td>13.459068</td>\n      <td>16.590849</td>\n    </tr>\n    <tr>\n      <th>1978</th>\n      <td>12.504356</td>\n      <td>11.044274</td>\n      <td>11.380000</td>\n      <td>6.082356</td>\n      <td>10.167233</td>\n      <td>7.650658</td>\n      <td>9.489342</td>\n      <td>8.800466</td>\n      <td>9.089753</td>\n      <td>8.301699</td>\n      <td>12.967397</td>\n      <td>16.771370</td>\n    </tr>\n    <tr>\n      <th>2061</th>\n      <td>12.299583</td>\n      <td>10.351796</td>\n      <td>11.362369</td>\n      <td>6.958227</td>\n      <td>10.881763</td>\n      <td>7.729726</td>\n      <td>9.733923</td>\n      <td>8.858788</td>\n      <td>8.647652</td>\n      <td>9.835577</td>\n      <td>13.502795</td>\n      <td>13.680773</td>\n    </tr>\n    <tr>\n      <th>2062</th>\n      <td>12.246923</td>\n      <td>10.110438</td>\n      <td>11.732712</td>\n      <td>6.960440</td>\n      <td>10.657918</td>\n      <td>7.393068</td>\n      <td>11.020712</td>\n      <td>8.793753</td>\n      <td>8.316822</td>\n      <td>9.676247</td>\n      <td>12.930685</td>\n      <td>14.323956</td>\n    </tr>\n    <tr>\n      <th>2063</th>\n      <td>12.813452</td>\n      <td>10.836986</td>\n      <td>12.541151</td>\n      <td>7.330055</td>\n      <td>11.724110</td>\n      <td>8.434712</td>\n      <td>11.075699</td>\n      <td>10.336548</td>\n      <td>8.903589</td>\n      <td>10.224438</td>\n      <td>13.638877</td>\n      <td>14.999014</td>\n    </tr>\n    <tr>\n      <th>2064</th>\n      <td>12.363661</td>\n      <td>10.920164</td>\n      <td>12.104372</td>\n      <td>6.787787</td>\n      <td>11.454481</td>\n      <td>7.570874</td>\n      <td>10.259153</td>\n      <td>9.467350</td>\n      <td>7.789016</td>\n      <td>10.207951</td>\n      <td>13.740546</td>\n      <td>14.910301</td>\n    </tr>\n    <tr>\n      <th>2065</th>\n      <td>12.451370</td>\n      <td>11.075534</td>\n      <td>11.848767</td>\n      <td>6.858466</td>\n      <td>11.024795</td>\n      <td>7.478110</td>\n      <td>10.618712</td>\n      <td>8.879918</td>\n      <td>7.907425</td>\n      <td>9.918082</td>\n      <td>12.964247</td>\n      <td>15.591644</td>\n    </tr>\n    <tr>\n      <th>2066</th>\n      <td>13.461973</td>\n      <td>11.557205</td>\n      <td>12.020630</td>\n      <td>7.345726</td>\n      <td>11.805041</td>\n      <td>7.793671</td>\n      <td>10.579808</td>\n      <td>8.835096</td>\n      <td>8.514438</td>\n      <td>9.768959</td>\n      <td>14.265836</td>\n      <td>16.307260</td>\n    </tr>\n    <tr>\n      <th>2067</th>\n      <td>12.737151</td>\n      <td>10.990986</td>\n      <td>11.739397</td>\n      <td>7.143425</td>\n      <td>11.630740</td>\n      <td>7.368164</td>\n      <td>10.652027</td>\n      <td>9.325616</td>\n      <td>8.645014</td>\n      <td>9.547425</td>\n      <td>14.774548</td>\n      <td>17.135945</td>\n    </tr>\n    <tr>\n      <th>2068</th>\n      <td>11.835628</td>\n      <td>10.468197</td>\n      <td>11.409754</td>\n      <td>6.477678</td>\n      <td>10.760765</td>\n      <td>6.067322</td>\n      <td>8.859180</td>\n      <td>8.255519</td>\n      <td>7.224945</td>\n      <td>7.832978</td>\n      <td>12.808634</td>\n      <td>15.017486</td>\n    </tr>\n    <tr>\n      <th>2069</th>\n      <td>11.166356</td>\n      <td>9.723699</td>\n      <td>10.902000</td>\n      <td>5.767973</td>\n      <td>9.873918</td>\n      <td>6.189973</td>\n      <td>8.564493</td>\n      <td>7.711397</td>\n      <td>7.924521</td>\n      <td>7.754384</td>\n      <td>12.621233</td>\n      <td>15.762904</td>\n    </tr>\n  </tbody>\n</table>\n</div>"
     },
     "metadata": {},
     "execution_count": 151
    }
   ],
   "source": [
    "data.groupby(data.index.to_period('A')).mean()"
   ]
  },
  {
   "cell_type": "markdown",
   "metadata": {},
   "source": [
    "### Step 13. Downsample the record to a monthly frequency for each location."
   ]
  },
  {
   "cell_type": "code",
   "execution_count": 152,
   "metadata": {},
   "outputs": [
    {
     "output_type": "execute_result",
     "data": {
      "text/plain": "                RPT        VAL        ROS       KIL        SHA       BIR  \\\nYr_Mo_Dy                                                                   \n1970-01   13.152581  11.731935  13.083871  5.810968   9.507742  8.040323   \n1970-02   14.820714  13.776071  12.643929  6.894643  11.923929  7.954643   \n1970-03   14.941613  11.496129  13.180968  7.494194  11.484194  8.242581   \n1970-04   14.733333  11.843667  12.711333  7.316667  10.938333  8.707333   \n1970-05   10.185161   9.154194   9.720323  5.639677  10.465484  7.879355   \n...             ...        ...        ...       ...        ...       ...   \n2069-08   11.567419   9.656774   9.192581  5.661935   9.667097  6.407097   \n2069-09    8.544333   7.146000  10.698000  4.161667   8.561333  4.934000   \n2069-10   10.640968  10.424194  10.522581  5.803548  11.545161  7.075484   \n2069-11   12.462000  11.430667  12.141333  5.499667   9.828667  6.710000   \n2069-12   13.335806  11.969032  12.433226  5.446129   9.766129  7.532581   \n\n                DUB        CLA        MUL        CLO        BEL        MAL  \nYr_Mo_Dy                                                                    \n1970-01    9.843226   8.834194   8.407097   7.626452  12.403871  17.192903  \n1970-02   11.837857   9.223214  10.339643   8.415357  14.899643  18.016786  \n1970-03   12.160968  10.082581  10.936774   9.710645  15.041290  19.093226  \n1970-04   11.171667   9.249667  10.004333  10.178333  13.237000  16.899667  \n1970-05    8.982258   8.938387   9.251935   8.784516  13.989355  15.335161  \n...             ...        ...        ...        ...        ...        ...  \n2069-08    7.070323   6.366452   7.568065   7.800323  11.952258  13.715161  \n2069-09    7.120333   6.839000   6.089333   6.203333  11.665000  14.972333  \n2069-10    8.483871   9.713226   8.495806   8.717419  15.348387  17.298710  \n2069-11   10.166333   8.304667   8.458000   7.864667  14.758667  20.094667  \n2069-12   10.076774   8.656774   8.801935   7.603226  13.511613  17.707097  \n\n[216 rows x 12 columns]",
      "text/html": "<div>\n<style scoped>\n    .dataframe tbody tr th:only-of-type {\n        vertical-align: middle;\n    }\n\n    .dataframe tbody tr th {\n        vertical-align: top;\n    }\n\n    .dataframe thead th {\n        text-align: right;\n    }\n</style>\n<table border=\"1\" class=\"dataframe\">\n  <thead>\n    <tr style=\"text-align: right;\">\n      <th></th>\n      <th>RPT</th>\n      <th>VAL</th>\n      <th>ROS</th>\n      <th>KIL</th>\n      <th>SHA</th>\n      <th>BIR</th>\n      <th>DUB</th>\n      <th>CLA</th>\n      <th>MUL</th>\n      <th>CLO</th>\n      <th>BEL</th>\n      <th>MAL</th>\n    </tr>\n    <tr>\n      <th>Yr_Mo_Dy</th>\n      <th></th>\n      <th></th>\n      <th></th>\n      <th></th>\n      <th></th>\n      <th></th>\n      <th></th>\n      <th></th>\n      <th></th>\n      <th></th>\n      <th></th>\n      <th></th>\n    </tr>\n  </thead>\n  <tbody>\n    <tr>\n      <th>1970-01</th>\n      <td>13.152581</td>\n      <td>11.731935</td>\n      <td>13.083871</td>\n      <td>5.810968</td>\n      <td>9.507742</td>\n      <td>8.040323</td>\n      <td>9.843226</td>\n      <td>8.834194</td>\n      <td>8.407097</td>\n      <td>7.626452</td>\n      <td>12.403871</td>\n      <td>17.192903</td>\n    </tr>\n    <tr>\n      <th>1970-02</th>\n      <td>14.820714</td>\n      <td>13.776071</td>\n      <td>12.643929</td>\n      <td>6.894643</td>\n      <td>11.923929</td>\n      <td>7.954643</td>\n      <td>11.837857</td>\n      <td>9.223214</td>\n      <td>10.339643</td>\n      <td>8.415357</td>\n      <td>14.899643</td>\n      <td>18.016786</td>\n    </tr>\n    <tr>\n      <th>1970-03</th>\n      <td>14.941613</td>\n      <td>11.496129</td>\n      <td>13.180968</td>\n      <td>7.494194</td>\n      <td>11.484194</td>\n      <td>8.242581</td>\n      <td>12.160968</td>\n      <td>10.082581</td>\n      <td>10.936774</td>\n      <td>9.710645</td>\n      <td>15.041290</td>\n      <td>19.093226</td>\n    </tr>\n    <tr>\n      <th>1970-04</th>\n      <td>14.733333</td>\n      <td>11.843667</td>\n      <td>12.711333</td>\n      <td>7.316667</td>\n      <td>10.938333</td>\n      <td>8.707333</td>\n      <td>11.171667</td>\n      <td>9.249667</td>\n      <td>10.004333</td>\n      <td>10.178333</td>\n      <td>13.237000</td>\n      <td>16.899667</td>\n    </tr>\n    <tr>\n      <th>1970-05</th>\n      <td>10.185161</td>\n      <td>9.154194</td>\n      <td>9.720323</td>\n      <td>5.639677</td>\n      <td>10.465484</td>\n      <td>7.879355</td>\n      <td>8.982258</td>\n      <td>8.938387</td>\n      <td>9.251935</td>\n      <td>8.784516</td>\n      <td>13.989355</td>\n      <td>15.335161</td>\n    </tr>\n    <tr>\n      <th>...</th>\n      <td>...</td>\n      <td>...</td>\n      <td>...</td>\n      <td>...</td>\n      <td>...</td>\n      <td>...</td>\n      <td>...</td>\n      <td>...</td>\n      <td>...</td>\n      <td>...</td>\n      <td>...</td>\n      <td>...</td>\n    </tr>\n    <tr>\n      <th>2069-08</th>\n      <td>11.567419</td>\n      <td>9.656774</td>\n      <td>9.192581</td>\n      <td>5.661935</td>\n      <td>9.667097</td>\n      <td>6.407097</td>\n      <td>7.070323</td>\n      <td>6.366452</td>\n      <td>7.568065</td>\n      <td>7.800323</td>\n      <td>11.952258</td>\n      <td>13.715161</td>\n    </tr>\n    <tr>\n      <th>2069-09</th>\n      <td>8.544333</td>\n      <td>7.146000</td>\n      <td>10.698000</td>\n      <td>4.161667</td>\n      <td>8.561333</td>\n      <td>4.934000</td>\n      <td>7.120333</td>\n      <td>6.839000</td>\n      <td>6.089333</td>\n      <td>6.203333</td>\n      <td>11.665000</td>\n      <td>14.972333</td>\n    </tr>\n    <tr>\n      <th>2069-10</th>\n      <td>10.640968</td>\n      <td>10.424194</td>\n      <td>10.522581</td>\n      <td>5.803548</td>\n      <td>11.545161</td>\n      <td>7.075484</td>\n      <td>8.483871</td>\n      <td>9.713226</td>\n      <td>8.495806</td>\n      <td>8.717419</td>\n      <td>15.348387</td>\n      <td>17.298710</td>\n    </tr>\n    <tr>\n      <th>2069-11</th>\n      <td>12.462000</td>\n      <td>11.430667</td>\n      <td>12.141333</td>\n      <td>5.499667</td>\n      <td>9.828667</td>\n      <td>6.710000</td>\n      <td>10.166333</td>\n      <td>8.304667</td>\n      <td>8.458000</td>\n      <td>7.864667</td>\n      <td>14.758667</td>\n      <td>20.094667</td>\n    </tr>\n    <tr>\n      <th>2069-12</th>\n      <td>13.335806</td>\n      <td>11.969032</td>\n      <td>12.433226</td>\n      <td>5.446129</td>\n      <td>9.766129</td>\n      <td>7.532581</td>\n      <td>10.076774</td>\n      <td>8.656774</td>\n      <td>8.801935</td>\n      <td>7.603226</td>\n      <td>13.511613</td>\n      <td>17.707097</td>\n    </tr>\n  </tbody>\n</table>\n<p>216 rows × 12 columns</p>\n</div>"
     },
     "metadata": {},
     "execution_count": 152
    }
   ],
   "source": [
    "data.groupby(data.index.to_period('M')).mean()"
   ]
  },
  {
   "cell_type": "markdown",
   "metadata": {},
   "source": [
    "### Step 14. Downsample the record to a weekly frequency for each location."
   ]
  },
  {
   "cell_type": "code",
   "execution_count": 153,
   "metadata": {},
   "outputs": [
    {
     "output_type": "execute_result",
     "data": {
      "text/plain": "                             RPT        VAL        ROS       KIL        SHA  \\\nYr_Mo_Dy                                                                      \n1969-12-29/1970-01-04   9.470000   5.522500  10.457500  3.427500   4.927500   \n1970-01-05/1970-01-11  12.762857   9.290000  12.945714  4.941429   7.840000   \n1970-01-12/1970-01-18  12.484286  12.530000  11.857143  5.470000  10.005714   \n1970-01-19/1970-01-25  16.440000  15.818571  15.154286  8.298571  12.118571   \n1970-01-26/1970-02-01  14.302857  14.274286  14.557143  6.988571  12.147143   \n...                          ...        ...        ...       ...        ...   \n2069-12-02/2069-12-08  15.214286  13.148571  11.685714  7.081429  10.982857   \n2069-12-09/2069-12-15  12.440000  12.065714  10.120000  4.037143   9.827143   \n2069-12-16/2069-12-22  12.827143  11.578571  14.242857  6.250000   9.952857   \n2069-12-23/2069-12-29  12.821429  11.220000  10.702857  3.958571   8.088571   \n2069-12-30/2070-01-05  15.335000  13.540000  25.565000  7.560000  11.060000   \n\n                             BIR        DUB        CLA        MUL        CLO  \\\nYr_Mo_Dy                                                                       \n1969-12-29/1970-01-04   3.855000   7.907500   5.085000   6.387500   4.437500   \n1970-01-05/1970-01-11   7.380000  10.571429   7.515714   8.192857   6.315714   \n1970-01-12/1970-01-18   8.081429   9.468571   8.950000   8.120000   7.671429   \n1970-01-19/1970-01-25  10.454286  10.462857  11.958571  10.462857  11.071429   \n1970-01-26/1970-02-01   9.690000  11.177143  10.280000   9.251429   8.727143   \n...                          ...        ...        ...        ...        ...   \n2069-12-02/2069-12-08   7.387143  10.588571   9.768571  10.441429   8.128571   \n2069-12-09/2069-12-15   7.028571   8.674286   7.338571   7.328571   6.977143   \n2069-12-16/2069-12-22   9.084286  11.892857   9.522857  10.065714   9.082857   \n2069-12-23/2069-12-29   6.430000   7.708571   7.564286   6.375714   5.875714   \n2069-12-30/2070-01-05   9.085000  15.685000  11.210000  12.230000   9.270000   \n\n                             BEL        MAL  \nYr_Mo_Dy                                     \n1969-12-29/1970-01-04   9.405000  15.937500  \n1970-01-05/1970-01-11   9.547143  15.998571  \n1970-01-12/1970-01-18  11.612857  17.060000  \n1970-01-19/1970-01-25  17.802857  20.201429  \n1970-01-26/1970-02-01  14.034286  17.355714  \n...                          ...        ...  \n2069-12-02/2069-12-08  13.918571  18.571429  \n2069-12-09/2069-12-15  14.597143  15.522857  \n2069-12-16/2069-12-22  14.094286  20.238571  \n2069-12-23/2069-12-29  12.071429  14.738571  \n2069-12-30/2070-01-05  11.335000  22.625000  \n\n[941 rows x 12 columns]",
      "text/html": "<div>\n<style scoped>\n    .dataframe tbody tr th:only-of-type {\n        vertical-align: middle;\n    }\n\n    .dataframe tbody tr th {\n        vertical-align: top;\n    }\n\n    .dataframe thead th {\n        text-align: right;\n    }\n</style>\n<table border=\"1\" class=\"dataframe\">\n  <thead>\n    <tr style=\"text-align: right;\">\n      <th></th>\n      <th>RPT</th>\n      <th>VAL</th>\n      <th>ROS</th>\n      <th>KIL</th>\n      <th>SHA</th>\n      <th>BIR</th>\n      <th>DUB</th>\n      <th>CLA</th>\n      <th>MUL</th>\n      <th>CLO</th>\n      <th>BEL</th>\n      <th>MAL</th>\n    </tr>\n    <tr>\n      <th>Yr_Mo_Dy</th>\n      <th></th>\n      <th></th>\n      <th></th>\n      <th></th>\n      <th></th>\n      <th></th>\n      <th></th>\n      <th></th>\n      <th></th>\n      <th></th>\n      <th></th>\n      <th></th>\n    </tr>\n  </thead>\n  <tbody>\n    <tr>\n      <th>1969-12-29/1970-01-04</th>\n      <td>9.470000</td>\n      <td>5.522500</td>\n      <td>10.457500</td>\n      <td>3.427500</td>\n      <td>4.927500</td>\n      <td>3.855000</td>\n      <td>7.907500</td>\n      <td>5.085000</td>\n      <td>6.387500</td>\n      <td>4.437500</td>\n      <td>9.405000</td>\n      <td>15.937500</td>\n    </tr>\n    <tr>\n      <th>1970-01-05/1970-01-11</th>\n      <td>12.762857</td>\n      <td>9.290000</td>\n      <td>12.945714</td>\n      <td>4.941429</td>\n      <td>7.840000</td>\n      <td>7.380000</td>\n      <td>10.571429</td>\n      <td>7.515714</td>\n      <td>8.192857</td>\n      <td>6.315714</td>\n      <td>9.547143</td>\n      <td>15.998571</td>\n    </tr>\n    <tr>\n      <th>1970-01-12/1970-01-18</th>\n      <td>12.484286</td>\n      <td>12.530000</td>\n      <td>11.857143</td>\n      <td>5.470000</td>\n      <td>10.005714</td>\n      <td>8.081429</td>\n      <td>9.468571</td>\n      <td>8.950000</td>\n      <td>8.120000</td>\n      <td>7.671429</td>\n      <td>11.612857</td>\n      <td>17.060000</td>\n    </tr>\n    <tr>\n      <th>1970-01-19/1970-01-25</th>\n      <td>16.440000</td>\n      <td>15.818571</td>\n      <td>15.154286</td>\n      <td>8.298571</td>\n      <td>12.118571</td>\n      <td>10.454286</td>\n      <td>10.462857</td>\n      <td>11.958571</td>\n      <td>10.462857</td>\n      <td>11.071429</td>\n      <td>17.802857</td>\n      <td>20.201429</td>\n    </tr>\n    <tr>\n      <th>1970-01-26/1970-02-01</th>\n      <td>14.302857</td>\n      <td>14.274286</td>\n      <td>14.557143</td>\n      <td>6.988571</td>\n      <td>12.147143</td>\n      <td>9.690000</td>\n      <td>11.177143</td>\n      <td>10.280000</td>\n      <td>9.251429</td>\n      <td>8.727143</td>\n      <td>14.034286</td>\n      <td>17.355714</td>\n    </tr>\n    <tr>\n      <th>...</th>\n      <td>...</td>\n      <td>...</td>\n      <td>...</td>\n      <td>...</td>\n      <td>...</td>\n      <td>...</td>\n      <td>...</td>\n      <td>...</td>\n      <td>...</td>\n      <td>...</td>\n      <td>...</td>\n      <td>...</td>\n    </tr>\n    <tr>\n      <th>2069-12-02/2069-12-08</th>\n      <td>15.214286</td>\n      <td>13.148571</td>\n      <td>11.685714</td>\n      <td>7.081429</td>\n      <td>10.982857</td>\n      <td>7.387143</td>\n      <td>10.588571</td>\n      <td>9.768571</td>\n      <td>10.441429</td>\n      <td>8.128571</td>\n      <td>13.918571</td>\n      <td>18.571429</td>\n    </tr>\n    <tr>\n      <th>2069-12-09/2069-12-15</th>\n      <td>12.440000</td>\n      <td>12.065714</td>\n      <td>10.120000</td>\n      <td>4.037143</td>\n      <td>9.827143</td>\n      <td>7.028571</td>\n      <td>8.674286</td>\n      <td>7.338571</td>\n      <td>7.328571</td>\n      <td>6.977143</td>\n      <td>14.597143</td>\n      <td>15.522857</td>\n    </tr>\n    <tr>\n      <th>2069-12-16/2069-12-22</th>\n      <td>12.827143</td>\n      <td>11.578571</td>\n      <td>14.242857</td>\n      <td>6.250000</td>\n      <td>9.952857</td>\n      <td>9.084286</td>\n      <td>11.892857</td>\n      <td>9.522857</td>\n      <td>10.065714</td>\n      <td>9.082857</td>\n      <td>14.094286</td>\n      <td>20.238571</td>\n    </tr>\n    <tr>\n      <th>2069-12-23/2069-12-29</th>\n      <td>12.821429</td>\n      <td>11.220000</td>\n      <td>10.702857</td>\n      <td>3.958571</td>\n      <td>8.088571</td>\n      <td>6.430000</td>\n      <td>7.708571</td>\n      <td>7.564286</td>\n      <td>6.375714</td>\n      <td>5.875714</td>\n      <td>12.071429</td>\n      <td>14.738571</td>\n    </tr>\n    <tr>\n      <th>2069-12-30/2070-01-05</th>\n      <td>15.335000</td>\n      <td>13.540000</td>\n      <td>25.565000</td>\n      <td>7.560000</td>\n      <td>11.060000</td>\n      <td>9.085000</td>\n      <td>15.685000</td>\n      <td>11.210000</td>\n      <td>12.230000</td>\n      <td>9.270000</td>\n      <td>11.335000</td>\n      <td>22.625000</td>\n    </tr>\n  </tbody>\n</table>\n<p>941 rows × 12 columns</p>\n</div>"
     },
     "metadata": {},
     "execution_count": 153
    }
   ],
   "source": [
    "data.groupby(data.index.to_period('W')).mean()"
   ]
  },
  {
   "cell_type": "markdown",
   "metadata": {},
   "source": [
    "### Step 15. Calculate the min, max and mean windspeeds and standard deviations of the windspeeds across all locations for each week (assume that the first week starts on January 2 1961) for the first 52 weeks."
   ]
  },
  {
   "cell_type": "code",
   "execution_count": 154,
   "metadata": {},
   "outputs": [
    {
     "output_type": "execute_result",
     "data": {
      "text/plain": "              RPT                               VAL                    \\\n              min    max       mean       std   min    max       mean   \nYr_Mo_Dy                                                                \n1970-01-11   5.00  22.92  12.762857  6.641402  3.50  20.75   9.290000   \n1970-01-18   6.71  21.67  12.484286  6.526860  5.00  18.88  12.530000   \n1970-01-25   5.00  22.63  16.440000  6.006344  4.29  23.67  15.818571   \n1970-02-01   4.79  22.46  14.302857  6.634096  2.17  21.79  14.274286   \n1970-02-08   7.25  19.33  12.971429  5.026780  7.29  22.25  14.361429   \n1970-02-15  10.79  19.87  14.422857  3.815057  6.83  26.75  12.367143   \n1970-02-22   7.46  21.84  16.721429  5.149102  9.71  20.83  15.857143   \n1970-03-01   9.96  23.29  13.888571  4.805169  6.04  15.87  10.268571   \n1970-03-08   7.87  23.04  16.667143  5.702233  5.29  15.12  10.958571   \n1970-03-15  10.54  24.17  15.147143  5.049715  6.25  17.96  11.341429   \n\n                       ROS         ...        CLO              BEL         \\\n                 std   min    max  ...       mean       std    min    max   \nYr_Mo_Dy                           ...                                      \n1970-01-11  7.007460  6.34  24.08  ...   6.315714  2.778698   1.71  17.12   \n1970-01-18  5.435862  6.08  21.42  ...   7.671429  5.213385   5.58  18.88   \n1970-01-25  6.460899  7.58  20.91  ...  11.071429  5.969616  10.21  28.12   \n1970-02-01  7.729543  4.42  20.91  ...   8.727143  6.375186   4.50  24.08   \n1970-02-08  5.951054  7.54  14.12  ...   8.184286  4.978081   6.54  23.25   \n1970-02-15  7.034358  7.08  21.71  ...   6.251429  3.133275   4.29  23.71   \n1970-02-22  4.215403  7.12  18.96  ...  10.750000  3.722275   9.33  24.83   \n1970-03-01  3.894211  8.96  17.88  ...   7.381429  3.664989   4.58  19.25   \n1970-03-08  3.830424  7.54  16.79  ...   8.397143  2.646127   8.33  20.21   \n1970-03-15  4.868554  6.00  31.83  ...   9.654286  4.661315   4.21  21.42   \n\n                                   MAL                              \n                 mean       std    min    max       mean       std  \nYr_Mo_Dy                                                            \n1970-01-11   9.547143  4.692166   8.50  25.62  15.998571  6.226710  \n1970-01-18  11.612857  5.153432   5.96  32.00  17.060000  8.767864  \n1970-01-25  17.802857  7.208122  12.33  25.37  20.201429  4.759578  \n1970-02-01  14.034286  7.722206   8.54  26.83  17.355714  7.553081  \n1970-02-08  16.320000  7.190320   5.29  28.96  19.225714  8.258095  \n1970-02-15  11.142857  6.415901   9.25  21.59  15.427143  4.544134  \n1970-02-22  17.737143  5.192327  15.92  28.29  21.101429  4.723591  \n1970-03-01  13.024286  5.673388   8.46  27.25  15.902857  6.817677  \n1970-03-08  15.504286  4.472400  13.79  26.46  19.755714  5.227599  \n1970-03-15  13.415714  6.180876   9.96  27.67  17.791429  6.283920  \n\n[10 rows x 48 columns]",
      "text/html": "<div>\n<style scoped>\n    .dataframe tbody tr th:only-of-type {\n        vertical-align: middle;\n    }\n\n    .dataframe tbody tr th {\n        vertical-align: top;\n    }\n\n    .dataframe thead tr th {\n        text-align: left;\n    }\n\n    .dataframe thead tr:last-of-type th {\n        text-align: right;\n    }\n</style>\n<table border=\"1\" class=\"dataframe\">\n  <thead>\n    <tr>\n      <th></th>\n      <th colspan=\"4\" halign=\"left\">RPT</th>\n      <th colspan=\"4\" halign=\"left\">VAL</th>\n      <th colspan=\"2\" halign=\"left\">ROS</th>\n      <th>...</th>\n      <th colspan=\"2\" halign=\"left\">CLO</th>\n      <th colspan=\"4\" halign=\"left\">BEL</th>\n      <th colspan=\"4\" halign=\"left\">MAL</th>\n    </tr>\n    <tr>\n      <th></th>\n      <th>min</th>\n      <th>max</th>\n      <th>mean</th>\n      <th>std</th>\n      <th>min</th>\n      <th>max</th>\n      <th>mean</th>\n      <th>std</th>\n      <th>min</th>\n      <th>max</th>\n      <th>...</th>\n      <th>mean</th>\n      <th>std</th>\n      <th>min</th>\n      <th>max</th>\n      <th>mean</th>\n      <th>std</th>\n      <th>min</th>\n      <th>max</th>\n      <th>mean</th>\n      <th>std</th>\n    </tr>\n    <tr>\n      <th>Yr_Mo_Dy</th>\n      <th></th>\n      <th></th>\n      <th></th>\n      <th></th>\n      <th></th>\n      <th></th>\n      <th></th>\n      <th></th>\n      <th></th>\n      <th></th>\n      <th></th>\n      <th></th>\n      <th></th>\n      <th></th>\n      <th></th>\n      <th></th>\n      <th></th>\n      <th></th>\n      <th></th>\n      <th></th>\n      <th></th>\n    </tr>\n  </thead>\n  <tbody>\n    <tr>\n      <th>1970-01-11</th>\n      <td>5.00</td>\n      <td>22.92</td>\n      <td>12.762857</td>\n      <td>6.641402</td>\n      <td>3.50</td>\n      <td>20.75</td>\n      <td>9.290000</td>\n      <td>7.007460</td>\n      <td>6.34</td>\n      <td>24.08</td>\n      <td>...</td>\n      <td>6.315714</td>\n      <td>2.778698</td>\n      <td>1.71</td>\n      <td>17.12</td>\n      <td>9.547143</td>\n      <td>4.692166</td>\n      <td>8.50</td>\n      <td>25.62</td>\n      <td>15.998571</td>\n      <td>6.226710</td>\n    </tr>\n    <tr>\n      <th>1970-01-18</th>\n      <td>6.71</td>\n      <td>21.67</td>\n      <td>12.484286</td>\n      <td>6.526860</td>\n      <td>5.00</td>\n      <td>18.88</td>\n      <td>12.530000</td>\n      <td>5.435862</td>\n      <td>6.08</td>\n      <td>21.42</td>\n      <td>...</td>\n      <td>7.671429</td>\n      <td>5.213385</td>\n      <td>5.58</td>\n      <td>18.88</td>\n      <td>11.612857</td>\n      <td>5.153432</td>\n      <td>5.96</td>\n      <td>32.00</td>\n      <td>17.060000</td>\n      <td>8.767864</td>\n    </tr>\n    <tr>\n      <th>1970-01-25</th>\n      <td>5.00</td>\n      <td>22.63</td>\n      <td>16.440000</td>\n      <td>6.006344</td>\n      <td>4.29</td>\n      <td>23.67</td>\n      <td>15.818571</td>\n      <td>6.460899</td>\n      <td>7.58</td>\n      <td>20.91</td>\n      <td>...</td>\n      <td>11.071429</td>\n      <td>5.969616</td>\n      <td>10.21</td>\n      <td>28.12</td>\n      <td>17.802857</td>\n      <td>7.208122</td>\n      <td>12.33</td>\n      <td>25.37</td>\n      <td>20.201429</td>\n      <td>4.759578</td>\n    </tr>\n    <tr>\n      <th>1970-02-01</th>\n      <td>4.79</td>\n      <td>22.46</td>\n      <td>14.302857</td>\n      <td>6.634096</td>\n      <td>2.17</td>\n      <td>21.79</td>\n      <td>14.274286</td>\n      <td>7.729543</td>\n      <td>4.42</td>\n      <td>20.91</td>\n      <td>...</td>\n      <td>8.727143</td>\n      <td>6.375186</td>\n      <td>4.50</td>\n      <td>24.08</td>\n      <td>14.034286</td>\n      <td>7.722206</td>\n      <td>8.54</td>\n      <td>26.83</td>\n      <td>17.355714</td>\n      <td>7.553081</td>\n    </tr>\n    <tr>\n      <th>1970-02-08</th>\n      <td>7.25</td>\n      <td>19.33</td>\n      <td>12.971429</td>\n      <td>5.026780</td>\n      <td>7.29</td>\n      <td>22.25</td>\n      <td>14.361429</td>\n      <td>5.951054</td>\n      <td>7.54</td>\n      <td>14.12</td>\n      <td>...</td>\n      <td>8.184286</td>\n      <td>4.978081</td>\n      <td>6.54</td>\n      <td>23.25</td>\n      <td>16.320000</td>\n      <td>7.190320</td>\n      <td>5.29</td>\n      <td>28.96</td>\n      <td>19.225714</td>\n      <td>8.258095</td>\n    </tr>\n    <tr>\n      <th>1970-02-15</th>\n      <td>10.79</td>\n      <td>19.87</td>\n      <td>14.422857</td>\n      <td>3.815057</td>\n      <td>6.83</td>\n      <td>26.75</td>\n      <td>12.367143</td>\n      <td>7.034358</td>\n      <td>7.08</td>\n      <td>21.71</td>\n      <td>...</td>\n      <td>6.251429</td>\n      <td>3.133275</td>\n      <td>4.29</td>\n      <td>23.71</td>\n      <td>11.142857</td>\n      <td>6.415901</td>\n      <td>9.25</td>\n      <td>21.59</td>\n      <td>15.427143</td>\n      <td>4.544134</td>\n    </tr>\n    <tr>\n      <th>1970-02-22</th>\n      <td>7.46</td>\n      <td>21.84</td>\n      <td>16.721429</td>\n      <td>5.149102</td>\n      <td>9.71</td>\n      <td>20.83</td>\n      <td>15.857143</td>\n      <td>4.215403</td>\n      <td>7.12</td>\n      <td>18.96</td>\n      <td>...</td>\n      <td>10.750000</td>\n      <td>3.722275</td>\n      <td>9.33</td>\n      <td>24.83</td>\n      <td>17.737143</td>\n      <td>5.192327</td>\n      <td>15.92</td>\n      <td>28.29</td>\n      <td>21.101429</td>\n      <td>4.723591</td>\n    </tr>\n    <tr>\n      <th>1970-03-01</th>\n      <td>9.96</td>\n      <td>23.29</td>\n      <td>13.888571</td>\n      <td>4.805169</td>\n      <td>6.04</td>\n      <td>15.87</td>\n      <td>10.268571</td>\n      <td>3.894211</td>\n      <td>8.96</td>\n      <td>17.88</td>\n      <td>...</td>\n      <td>7.381429</td>\n      <td>3.664989</td>\n      <td>4.58</td>\n      <td>19.25</td>\n      <td>13.024286</td>\n      <td>5.673388</td>\n      <td>8.46</td>\n      <td>27.25</td>\n      <td>15.902857</td>\n      <td>6.817677</td>\n    </tr>\n    <tr>\n      <th>1970-03-08</th>\n      <td>7.87</td>\n      <td>23.04</td>\n      <td>16.667143</td>\n      <td>5.702233</td>\n      <td>5.29</td>\n      <td>15.12</td>\n      <td>10.958571</td>\n      <td>3.830424</td>\n      <td>7.54</td>\n      <td>16.79</td>\n      <td>...</td>\n      <td>8.397143</td>\n      <td>2.646127</td>\n      <td>8.33</td>\n      <td>20.21</td>\n      <td>15.504286</td>\n      <td>4.472400</td>\n      <td>13.79</td>\n      <td>26.46</td>\n      <td>19.755714</td>\n      <td>5.227599</td>\n    </tr>\n    <tr>\n      <th>1970-03-15</th>\n      <td>10.54</td>\n      <td>24.17</td>\n      <td>15.147143</td>\n      <td>5.049715</td>\n      <td>6.25</td>\n      <td>17.96</td>\n      <td>11.341429</td>\n      <td>4.868554</td>\n      <td>6.00</td>\n      <td>31.83</td>\n      <td>...</td>\n      <td>9.654286</td>\n      <td>4.661315</td>\n      <td>4.21</td>\n      <td>21.42</td>\n      <td>13.415714</td>\n      <td>6.180876</td>\n      <td>9.96</td>\n      <td>27.67</td>\n      <td>17.791429</td>\n      <td>6.283920</td>\n    </tr>\n  </tbody>\n</table>\n<p>10 rows × 48 columns</p>\n</div>"
     },
     "metadata": {},
     "execution_count": 154
    }
   ],
   "source": [
    "# resample data to 'W' week and use the functions\n",
    "weekly = data.resample('W').agg(['min','max','mean','std'])\n",
    "\n",
    "# slice it for the first 52 weeks and locations\n",
    "weekly.loc[weekly.index[1:53], \"RPT\":\"MAL\"] .head(10)"
   ]
  }
 ],
 "metadata": {
  "anaconda-cloud": {},
  "kernelspec": {
   "display_name": "Python 3.8.3 32-bit",
   "language": "python",
   "name": "python_defaultSpec_1595253806234"
  },
  "language_info": {
   "codemirror_mode": {
    "name": "ipython",
    "version": 3
   },
   "file_extension": ".py",
   "mimetype": "text/x-python",
   "name": "python",
   "nbconvert_exporter": "python",
   "pygments_lexer": "ipython3",
   "version": "3.7.4-final"
  }
 },
 "nbformat": 4,
 "nbformat_minor": 1
}