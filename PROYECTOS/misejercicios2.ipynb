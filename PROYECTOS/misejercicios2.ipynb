{
 "cells": [
  {
   "cell_type": "code",
   "execution_count": 47,
   "metadata": {},
   "outputs": [
    {
     "output_type": "execute_result",
     "data": {
      "text/plain": "     date                    metadata title\n0  blabla  {'x': 'y', 'z': {'v': []}}     A\n1  bleble  {'x': 'y', 'z': {'v': []}}     B",
      "text/html": "<div>\n<style scoped>\n    .dataframe tbody tr th:only-of-type {\n        vertical-align: middle;\n    }\n\n    .dataframe tbody tr th {\n        vertical-align: top;\n    }\n\n    .dataframe thead th {\n        text-align: right;\n    }\n</style>\n<table border=\"1\" class=\"dataframe\">\n  <thead>\n    <tr style=\"text-align: right;\">\n      <th></th>\n      <th>date</th>\n      <th>metadata</th>\n      <th>title</th>\n    </tr>\n  </thead>\n  <tbody>\n    <tr>\n      <th>0</th>\n      <td>blabla</td>\n      <td>{'x': 'y', 'z': {'v': []}}</td>\n      <td>A</td>\n    </tr>\n    <tr>\n      <th>1</th>\n      <td>bleble</td>\n      <td>{'x': 'y', 'z': {'v': []}}</td>\n      <td>B</td>\n    </tr>\n  </tbody>\n</table>\n</div>"
     },
     "metadata": {},
     "execution_count": 47
    }
   ],
   "source": [
    "#ejercicio covid\n",
    "import pandas as pd\n",
    "#entendiendo lo que estoy haciendo en un ejemplo imaginario con datos mas simples para aclararme \n",
    "lista=[\n",
    "    {\"date\":\"blabla\", \"metadata\":{\"x\":\"y\", \"z\":{\"v\":[]}}, \"title\":\"A\"},\n",
    "    {\"date\":\"bleble\", \"metadata\":{\"x\":\"y\", \"z\":{\"v\":[]}}, \"title\":\"B\"}\n",
    "]\n",
    "# Leer de forma directa:\n",
    "pd.DataFrame(lista)"
   ]
  },
  {
   "cell_type": "code",
   "execution_count": 48,
   "metadata": {},
   "outputs": [
    {
     "output_type": "execute_result",
     "data": {
      "text/plain": "     date                    metadata title\n0  blabla  {'x': 'y', 'z': {'v': []}}     A\n1  bleble  {'x': 'y', 'z': {'v': []}}     B",
      "text/html": "<div>\n<style scoped>\n    .dataframe tbody tr th:only-of-type {\n        vertical-align: middle;\n    }\n\n    .dataframe tbody tr th {\n        vertical-align: top;\n    }\n\n    .dataframe thead th {\n        text-align: right;\n    }\n</style>\n<table border=\"1\" class=\"dataframe\">\n  <thead>\n    <tr style=\"text-align: right;\">\n      <th></th>\n      <th>date</th>\n      <th>metadata</th>\n      <th>title</th>\n    </tr>\n  </thead>\n  <tbody>\n    <tr>\n      <th>0</th>\n      <td>blabla</td>\n      <td>{'x': 'y', 'z': {'v': []}}</td>\n      <td>A</td>\n    </tr>\n    <tr>\n      <th>1</th>\n      <td>bleble</td>\n      <td>{'x': 'y', 'z': {'v': []}}</td>\n      <td>B</td>\n    </tr>\n  </tbody>\n</table>\n</div>"
     },
     "metadata": {},
     "execution_count": 48
    }
   ],
   "source": [
    "#ejercicio covid \n",
    "# Leer la lista cuando está anidada dentro de diccionarios con un ejemplo más simple para aclararme \n",
    "\n",
    "item={\n",
    "    \"data\":{\n",
    "        \"post\": [\n",
    "                  {\"date\":\"blabla\", \"metadata\":{\"x\":\"y\", \"z\":{\"v\":[]}}, \"title\":\"A\"},\n",
    "                  {\"date\":\"bleble\", \"metadata\":{\"x\":\"y\", \"z\":{\"v\":[]}}, \"title\":\"B\"}\n",
    "                ]\n",
    "    }\n",
    "}\n",
    "\n",
    "\n",
    "df_x =pd.DataFrame(item)\n",
    "\n",
    "post = df_x.data.post\n",
    "pd.DataFrame(post)"
   ]
  },
  {
   "cell_type": "code",
   "execution_count": 49,
   "metadata": {},
   "outputs": [
    {
     "output_type": "execute_result",
     "data": {
      "text/plain": "   a\n0  1\n1  2\n0  3\n1  4",
      "text/html": "<div>\n<style scoped>\n    .dataframe tbody tr th:only-of-type {\n        vertical-align: middle;\n    }\n\n    .dataframe tbody tr th {\n        vertical-align: top;\n    }\n\n    .dataframe thead th {\n        text-align: right;\n    }\n</style>\n<table border=\"1\" class=\"dataframe\">\n  <thead>\n    <tr style=\"text-align: right;\">\n      <th></th>\n      <th>a</th>\n    </tr>\n  </thead>\n  <tbody>\n    <tr>\n      <th>0</th>\n      <td>1</td>\n    </tr>\n    <tr>\n      <th>1</th>\n      <td>2</td>\n    </tr>\n    <tr>\n      <th>0</th>\n      <td>3</td>\n    </tr>\n    <tr>\n      <th>1</th>\n      <td>4</td>\n    </tr>\n  </tbody>\n</table>\n</div>"
     },
     "metadata": {},
     "execution_count": 49
    }
   ],
   "source": [
    "#ejercicio nba18\n",
    "#entendiendo lo que estoy haciendo con un ejemplo con valores más sencillos \n",
    "df1 = pd.DataFrame([{\"a\":1},{\"a\":2}])\n",
    "df2 = pd.DataFrame([{\"a\":3},{\"a\":4}])\n",
    "pd.concat([df1,df2], axis=0)#entendiendo lo que estoy haciendo con un ejemplo con valores más sencillos \n",
    "df1 = pd.DataFrame([{\"a\":1},{\"a\":2}])\n",
    "df2 = pd.DataFrame([{\"a\":3},{\"a\":4}])\n",
    "pd.concat([df1,df2], axis=0)"
   ]
  },
  {
   "cell_type": "code",
   "execution_count": 8,
   "metadata": {},
   "outputs": [
    {
     "output_type": "error",
     "ename": "SyntaxError",
     "evalue": "invalid syntax (<ipython-input-8-cafe7d82c7d0>, line 1)",
     "traceback": [
      "\u001b[1;36m  File \u001b[1;32m\"<ipython-input-8-cafe7d82c7d0>\"\u001b[1;36m, line \u001b[1;32m1\u001b[0m\n\u001b[1;33m    np.<TAB>\u001b[0m\n\u001b[1;37m       ^\u001b[0m\n\u001b[1;31mSyntaxError\u001b[0m\u001b[1;31m:\u001b[0m invalid syntax\n"
     ]
    }
   ],
   "source": [
    "In [3]: np.<TAB>\n"
   ]
  },
  {
   "cell_type": "code",
   "execution_count": 9,
   "metadata": {
    "tags": []
   },
   "outputs": [
    {
     "output_type": "stream",
     "name": "stdout",
     "text": "Object `np` not found.\n"
    }
   ],
   "source": [
    "In [4]: np?"
   ]
  },
  {
   "cell_type": "code",
   "execution_count": 10,
   "metadata": {},
   "outputs": [],
   "source": [
    "import numpy as np\n",
    "np.random.seed(0)"
   ]
  },
  {
   "cell_type": "code",
   "execution_count": 11,
   "metadata": {},
   "outputs": [],
   "source": [
    "x1 = np.zeros(6)  # One-dimensional array\n",
    "x2 = np.ones((3, 4)) # Two-dimensional array\n",
    "x3 = np.ones((3, 4, 5))  # Three-dimensional array"
   ]
  },
  {
   "cell_type": "code",
   "execution_count": 12,
   "metadata": {},
   "outputs": [
    {
     "output_type": "execute_result",
     "data": {
      "text/plain": "array([0., 0., 0., 0., 0., 0.])"
     },
     "metadata": {},
     "execution_count": 12
    }
   ],
   "source": [
    "x1"
   ]
  },
  {
   "cell_type": "code",
   "execution_count": 13,
   "metadata": {},
   "outputs": [
    {
     "output_type": "execute_result",
     "data": {
      "text/plain": "array([[1., 1., 1., 1.],\n       [1., 1., 1., 1.],\n       [1., 1., 1., 1.]])"
     },
     "metadata": {},
     "execution_count": 13
    }
   ],
   "source": [
    "x2 = np.ones((3, 4)) #3 son las filas, y 4 son las columnas (3 filas, 4 columnas). este array es bidimensional. \n",
    "x2 #"
   ]
  },
  {
   "cell_type": "code",
   "execution_count": 14,
   "metadata": {},
   "outputs": [],
   "source": [
    "x3 = np.ones((3, 4, 5))  # Three-dimensional array. 3 arrays, 4 filas, 5 columnas "
   ]
  },
  {
   "cell_type": "code",
   "execution_count": 15,
   "metadata": {
    "tags": []
   },
   "outputs": [
    {
     "output_type": "stream",
     "name": "stdout",
     "text": "itemsize: 8 bytes\nnbytes: 480 bytes\n"
    }
   ],
   "source": [
    "print(\"itemsize:\", x3.itemsize, \"bytes\")\n",
    "print(\"nbytes:\", x3.nbytes, \"bytes\")"
   ]
  },
  {
   "cell_type": "code",
   "execution_count": 16,
   "metadata": {},
   "outputs": [],
   "source": [
    "#Si está familiarizado con la indexación de lista estándar de Python, la indexación en NumPy le resultará bastante familiar. En una matriz unidimensional, se puede acceder al valor i-ésimo (contando desde cero) especificando el índice deseado entre corchetes, al igual que con las listas de Python:"
   ]
  },
  {
   "cell_type": "code",
   "execution_count": 17,
   "metadata": {},
   "outputs": [
    {
     "output_type": "execute_result",
     "data": {
      "text/plain": "array([0., 0., 0., 0., 0., 0.])"
     },
     "metadata": {},
     "execution_count": 17
    }
   ],
   "source": [
    "x1"
   ]
  },
  {
   "cell_type": "code",
   "execution_count": 18,
   "metadata": {},
   "outputs": [
    {
     "output_type": "execute_result",
     "data": {
      "text/plain": "0.0"
     },
     "metadata": {},
     "execution_count": 18
    }
   ],
   "source": [
    "x1[0]"
   ]
  },
  {
   "cell_type": "code",
   "execution_count": 19,
   "metadata": {},
   "outputs": [
    {
     "output_type": "execute_result",
     "data": {
      "text/plain": "0.0"
     },
     "metadata": {},
     "execution_count": 19
    }
   ],
   "source": [
    "x1[4]"
   ]
  },
  {
   "cell_type": "code",
   "execution_count": 20,
   "metadata": {},
   "outputs": [
    {
     "output_type": "execute_result",
     "data": {
      "text/plain": "array([[12.,  1.,  1.,  1.],\n       [ 1.,  1.,  1.,  1.],\n       [ 1.,  1.,  1.,  1.]])"
     },
     "metadata": {},
     "execution_count": 20
    }
   ],
   "source": [
    "#Values can also be modified using any of the above index notation:\n",
    "#ha sustituido el valor del 0.0 (era 1.) por un 12\n",
    "x2[0, 0] = 12\n",
    "x2"
   ]
  },
  {
   "cell_type": "code",
   "execution_count": 21,
   "metadata": {},
   "outputs": [],
   "source": [
    "#Tenga en cuenta que, a diferencia de las listas de Python, las matrices NumPy tienen un tipo fijo. Esto significa, por ejemplo, que si intenta insertar un valor de punto flotante en una matriz entera, el valor se truncará silenciosamente. ¡No se deje sorprender por este comportamiento!"
   ]
  },
  {
   "cell_type": "code",
   "execution_count": 22,
   "metadata": {},
   "outputs": [
    {
     "output_type": "execute_result",
     "data": {
      "text/plain": "array([0., 0., 0., 0., 0., 0.])"
     },
     "metadata": {},
     "execution_count": 22
    }
   ],
   "source": [
    "x1"
   ]
  },
  {
   "cell_type": "code",
   "execution_count": 23,
   "metadata": {},
   "outputs": [
    {
     "output_type": "execute_result",
     "data": {
      "text/plain": "array([3.14159, 0.     , 0.     , 0.     , 0.     , 0.     ])"
     },
     "metadata": {},
     "execution_count": 23
    }
   ],
   "source": [
    "x1[0] = 3.14159  # this will be truncated! #preguntar a Clara \n",
    "x1"
   ]
  },
  {
   "cell_type": "code",
   "execution_count": 24,
   "metadata": {},
   "outputs": [],
   "source": [
    "#Del mismo modo que podemos usar corchetes para acceder a elementos de matriz individuales, también podemos usarlos para acceder a submatrices con la notación de corte, marcada con el carácter de dos puntos (:). La sintaxis de segmentación NumPy sigue la de la lista estándar de Python; para acceder a un segmento de una matriz x, use esto: x [inicio: detener: paso]\n",
    "#Si alguno de estos no está especificado, los valores predeterminados son inicio = 0, parada = tamaño de dimensión, paso = 1. Echaremos un vistazo al acceso a sub-matrices en una dimensión y en múltiples dimensiones."
   ]
  },
  {
   "cell_type": "code",
   "execution_count": 25,
   "metadata": {
    "tags": []
   },
   "outputs": [
    {
     "output_type": "stream",
     "name": "stdout",
     "text": "[0 1 2 3 4 5 6 7 8 9]\n"
    }
   ],
   "source": [
    "x = np.arange(10)\n",
    "print (np.arange(10))"
   ]
  },
  {
   "cell_type": "code",
   "execution_count": 26,
   "metadata": {},
   "outputs": [
    {
     "output_type": "execute_result",
     "data": {
      "text/plain": "array([0, 1, 2, 3, 4, 5, 6, 7, 8, 9])"
     },
     "metadata": {},
     "execution_count": 26
    }
   ],
   "source": [
    "x = np.arange(10)\n",
    "x"
   ]
  },
  {
   "cell_type": "code",
   "execution_count": 27,
   "metadata": {},
   "outputs": [
    {
     "output_type": "execute_result",
     "data": {
      "text/plain": "array([0, 1, 2, 3, 4])"
     },
     "metadata": {},
     "execution_count": 27
    }
   ],
   "source": [
    "x[:5]  # first five elements"
   ]
  },
  {
   "cell_type": "code",
   "execution_count": 28,
   "metadata": {},
   "outputs": [
    {
     "output_type": "execute_result",
     "data": {
      "text/plain": "array([4, 5, 6])"
     },
     "metadata": {},
     "execution_count": 28
    }
   ],
   "source": [
    "x[4:7]"
   ]
  },
  {
   "cell_type": "code",
   "execution_count": 29,
   "metadata": {},
   "outputs": [
    {
     "output_type": "execute_result",
     "data": {
      "text/plain": "array([0, 2, 4, 6, 8])"
     },
     "metadata": {},
     "execution_count": 29
    }
   ],
   "source": [
    "x[::2]  # every other element. Aqui saca los pares"
   ]
  },
  {
   "cell_type": "code",
   "execution_count": 30,
   "metadata": {},
   "outputs": [
    {
     "output_type": "execute_result",
     "data": {
      "text/plain": "array([1, 3, 5, 7, 9])"
     },
     "metadata": {},
     "execution_count": 30
    }
   ],
   "source": [
    "x[1::2]  # every other element, starting at index 1. saca los impares "
   ]
  },
  {
   "cell_type": "code",
   "execution_count": 31,
   "metadata": {},
   "outputs": [
    {
     "output_type": "execute_result",
     "data": {
      "text/plain": "array([9, 8, 7, 6, 5, 4, 3, 2, 1, 0])"
     },
     "metadata": {},
     "execution_count": 31
    }
   ],
   "source": [
    "x[::-1]  # all elements, reversed"
   ]
  },
  {
   "cell_type": "code",
   "execution_count": 32,
   "metadata": {},
   "outputs": [
    {
     "output_type": "execute_result",
     "data": {
      "text/plain": "array([5, 3, 1])"
     },
     "metadata": {},
     "execution_count": 32
    }
   ],
   "source": [
    "x[5::-2]  # reversed every other from index 5"
   ]
  },
  {
   "cell_type": "code",
   "execution_count": 33,
   "metadata": {},
   "outputs": [],
   "source": [
    "#SLICING LA PARTE DE LA IZQUIERDA SON FILAS Y LA DE LA DERECHA SON COLUMNAS "
   ]
  },
  {
   "cell_type": "code",
   "execution_count": 34,
   "metadata": {},
   "outputs": [
    {
     "output_type": "execute_result",
     "data": {
      "text/plain": "array([[12.,  1.,  1.,  1.],\n       [ 1.,  1.,  1.,  1.],\n       [ 1.,  1.,  1.,  1.]])"
     },
     "metadata": {},
     "execution_count": 34
    }
   ],
   "source": [
    "x2"
   ]
  },
  {
   "cell_type": "code",
   "execution_count": 35,
   "metadata": {},
   "outputs": [
    {
     "output_type": "execute_result",
     "data": {
      "text/plain": "array([[12.,  1.,  1.],\n       [ 1.,  1.,  1.]])"
     },
     "metadata": {},
     "execution_count": 35
    }
   ],
   "source": [
    "x2[:2, :3]  # two rows, three columns LA PARTE DE LA IZQUIERDA SON FILAS Y LA DE LA DERECHA SON COLUMNAS "
   ]
  },
  {
   "cell_type": "code",
   "execution_count": 36,
   "metadata": {},
   "outputs": [
    {
     "output_type": "execute_result",
     "data": {
      "text/plain": "array([[12.,  1.],\n       [ 1.,  1.],\n       [ 1.,  1.]])"
     },
     "metadata": {},
     "execution_count": 36
    }
   ],
   "source": [
    "x2[:3, ::2]  # all rows (filas), every other column"
   ]
  },
  {
   "cell_type": "code",
   "execution_count": 37,
   "metadata": {},
   "outputs": [
    {
     "output_type": "execute_result",
     "data": {
      "text/plain": "array([[12.,  1.,  1.,  1.],\n       [ 1.,  1.,  1.,  1.],\n       [ 1.,  1.,  1.,  1.]])"
     },
     "metadata": {},
     "execution_count": 37
    }
   ],
   "source": [
    "x2"
   ]
  },
  {
   "cell_type": "code",
   "execution_count": 38,
   "metadata": {},
   "outputs": [
    {
     "output_type": "execute_result",
     "data": {
      "text/plain": "array([[12.,  1.,  1.,  1.],\n       [ 1.,  1.,  1.,  1.],\n       [ 1.,  1.,  1.,  1.]])"
     },
     "metadata": {},
     "execution_count": 38
    }
   ],
   "source": [
    "x2"
   ]
  },
  {
   "cell_type": "code",
   "execution_count": 39,
   "metadata": {},
   "outputs": [
    {
     "output_type": "execute_result",
     "data": {
      "text/plain": "array([[12.,  1.,  1.,  1.],\n       [ 1.,  1.,  1.,  1.],\n       [ 1.,  1.,  1.,  1.]])"
     },
     "metadata": {},
     "execution_count": 39
    }
   ],
   "source": [
    "x2[:3, ::1]  # all rows, every other column ME QUEDA POR ENTENDER ESTO "
   ]
  },
  {
   "cell_type": "code",
   "execution_count": 40,
   "metadata": {
    "tags": []
   },
   "outputs": [
    {
     "output_type": "stream",
     "name": "stdout",
     "text": "I am Jaime, and I likeloqueseaat night\nI am Jaime and I like loquesea at night\n"
    }
   ],
   "source": [
    "name=\"Jaime\"\n",
    "blabla=\"loquesea\"\n",
    "print(\"I am \"+name+ \", and I like\"+blabla+\"at night\")\n",
    "print(f\"I am {name} and I like {blabla} at night\")"
   ]
  },
  {
   "cell_type": "code",
   "execution_count": null,
   "metadata": {},
   "outputs": [],
   "source": []
  },
  {
   "cell_type": "code",
   "execution_count": null,
   "metadata": {},
   "outputs": [],
   "source": []
  }
 ],
 "metadata": {
  "language_info": {
   "codemirror_mode": {
    "name": "ipython",
    "version": 3
   },
   "file_extension": ".py",
   "mimetype": "text/x-python",
   "name": "python",
   "nbconvert_exporter": "python",
   "pygments_lexer": "ipython3",
   "version": 3
  },
  "orig_nbformat": 2,
  "kernelspec": {
   "name": "python_defaultSpec_1594377631428",
   "display_name": "Python 3.8.3 32-bit"
  }
 },
 "nbformat": 4,
 "nbformat_minor": 2
}