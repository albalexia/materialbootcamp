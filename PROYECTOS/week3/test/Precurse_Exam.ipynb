{
 "cells": [
  {
   "cell_type": "markdown",
   "metadata": {},
   "source": [
    "## Examen final precurso \n",
    "\n",
    "A continuación se realizarán una serie de preguntas que abarcan la siguiente temática:\n",
    "\n",
    "- Fundamentos de Python\n",
    "- SQL\n",
    "- Git\n",
    "\n",
    "Hacer cada ejercicio en una función con un nombre diferente siempre que se pida.\n",
    "\n",
    "**Aconsejamos leer todo el enunciado antes de empezar a hacer el ejercicio.**"
   ]
  },
  {
   "cell_type": "markdown",
   "metadata": {},
   "source": [
    "### Ejercicio 1\n",
    "\n",
    "Antes de empezar, se pide realizar un `git push` para subir todos los cambios que se tienen en local al repositorio (con su `git add` & `git commit` correspondiente). Este será el último `git push` en el día de hoy.\n",
    "\n",
    "A partir de ese momento, *no se puede hacer `git push` hasta después del día de hoy [03/07/2020]*. Hacerlo se calificará como error grave.\n",
    "\n",
    "Para cada uno de los ejecicios del examen, realiza un commit escribiendo como título del commit el ejercicio al que corresponde guardando los cambios realizados. \n",
    "\n",
    "Estando en la carpeta de tu repositorio en la **terminal** o **gitbash** haz `git log`. Este comando mostrará los últimos commits: haz una captura de pantalla de lo que muestre y envíalo a tus profesores por email junto con el link a tu repositorio.\n",
    "\n",
    "Ten en cuenta que tienes hasta las 23:59 del día de hoy para enviar el email. "
   ]
  },
  {
   "cell_type": "markdown",
   "metadata": {},
   "source": [
    "Ejercicio 2\n",
    "\n",
    "Un n-grama es una secuencia de 𝑛 caracteres consecutivos de una cadena. Por ejemplo, los 4-gramas de la cadena 'Elefante' son 'Elef', 'lefa', 'efan', 'fant' y 'ante'. Define una función que pregunte por una string y un número entero positivo 𝑛 y muestre por pantalla todos los n-gramas de la cadena."
   ]
  },
  {
   "cell_type": "code",
   "execution_count": 20,
   "metadata": {
    "tags": []
   },
   "outputs": [
    {
     "output_type": "stream",
     "name": "stdout",
     "text": "gira\niral\nrald\naldi\nldil\ndill\n"
    }
   ],
   "source": [
    "\n",
    "def x (string_, numeropositivo): \n",
    "    acum=0\n",
    "    for acum in (range(len(palabra)-t)):\n",
    "        print(palabra[acum:acum+t])\n",
    "        acum=acum+1\n",
    "\n",
    "palabra=str(input(\"introduceunapalabra:\"))\n",
    "t=int(input(\"introduceunnumero:\"))\n",
    "n=x (string_=palabra, numeropositivo=t)"
   ]
  },
  {
   "cell_type": "markdown",
   "metadata": {},
   "source": [
    "### Ejercicio 3\n",
    "\n",
    "Escribir una función que reciba por parámetro una lista y que devuelva todos los elementos que se repiten. Además, la función ha de mostrar por pantalla la lista sin elementos repetidos. \n",
    "\n",
    "La lista ha de ser la siguiente: `[2,2,4,3,7,7,7,8,6,7,3,1,2]`\n",
    "\n",
    " \n",
    " **La funcionalidad de este ejercicio debe estar contenido en una función.**"
   ]
  },
  {
   "cell_type": "code",
   "execution_count": 78,
   "metadata": {
    "tags": []
   },
   "outputs": [
    {
     "output_type": "stream",
     "name": "stdout",
     "text": "2\n2\n3\n7\n7\n7\n7\n3\n2\n"
    }
   ],
   "source": [
    "lista=[2,2,4,3,7,7,7,8,6,7,3,1,2] \n",
    "def f_2 (lista):\n",
    "    pos=0\n",
    "    for elem in lista:\n",
    "        if elem == lista[0]:\n",
    "            print(elem)\n",
    "            pos= elem+1\n",
    "        elif elem == lista[3]:\n",
    "            print(elem)\n",
    "            pos=elem+1\n",
    "        elif elem ==lista[4]:\n",
    "            print(elem)\n",
    "\n",
    "f_2 (lista)"
   ]
  },
  {
   "cell_type": "code",
   "execution_count": 113,
   "metadata": {
    "tags": []
   },
   "outputs": [
    {
     "output_type": "stream",
     "name": "stdout",
     "text": "[1, 2, 3, 4, 6, 7, 8]\n"
    }
   ],
   "source": [
    "lista=[2,2,4,3,7,7,7,8,6,7,3,1,2]   \n",
    "lista=set(lista)\n",
    "lista1= list(lista)\n",
    "\n",
    "print (lista1)  "
   ]
  },
  {
   "cell_type": "code",
   "execution_count": null,
   "metadata": {},
   "outputs": [],
   "source": [
    "#Ejercicio 4\n",
    "\n",
    "En este ejercicio se va a crear una lista con los siguientes elementos. Primero, crearemos las variables que luego añadiremos a la lista. Las variables son las siguientes:\n",
    "Crea una variable llamada num_dni de tipo Integer que represente el primer número de tu DNI.\n",
    "Crea una variable llamada let_dni de tipo String y que represente la letra de vuestro DNI.\n",
    "Crea una variable llamada tip_ord de tipo Boolean True si usas Windows y False si usas Mac.\n",
    "Crea una variable llamada nada de tipo None cuyo valor sea None.\n",
    "Crea una variable llamada lista_deseo de tipo List que contenga los cuatro objetos que te llevarías a una isla desierta. Cada elemento ha de ser de tipo String y el tamaño de la lista ha de ser 4.\n",
    "Crea una variable llamada tupla_ropa de tipo Tuple con la marca de la prenda superior, inferior y calzado que llevas puesto.\n",
    "Crea una variable llamada dict_info con dos keys y dos values. Una key es 'nombre', teniendo como value vuestro nombre. Otra key es 'edad', teniendo como value vuestra edad.\n",
    "Crea una variable llamada flo_hor con la hora actual separada por punto en vez de dos puntos. Ejemplo: si son las 17:06, el valor de la variable sería 17.06.\n",
    "Añade todos estos elementos en una lista llamada lista_examen en el orden de aparición.\n",
    "white_check_markeyesraised_hands\n",
    "\n"
   ]
  },
  {
   "cell_type": "code",
   "execution_count": 95,
   "metadata": {},
   "outputs": [
    {
     "output_type": "error",
     "ename": "SyntaxError",
     "evalue": "can't assign to keyword (<ipython-input-95-dbcaff9760e1>, line 4)",
     "traceback": [
      "\u001b[1;36m  File \u001b[1;32m\"<ipython-input-95-dbcaff9760e1>\"\u001b[1;36m, line \u001b[1;32m4\u001b[0m\n\u001b[1;33m    None=None\u001b[0m\n\u001b[1;37m             ^\u001b[0m\n\u001b[1;31mSyntaxError\u001b[0m\u001b[1;31m:\u001b[0m can't assign to keyword\n"
     ]
    }
   ],
   "source": [
    "num_dni= int(4)\n",
    "let_dni= str(\"H\")\n",
    "tipo_ord= True \n",
    "None=None\n",
    "lista_deseo= [\"bañador\", \"gorro\", \"crema\", \"sombrilla\"]\n",
    "tupla_ropa= (\"zara\", \"primark\", \"bershka\")\n",
    "dict_info= {\"nombre\":\"alba\", \"edad\": 29}\n",
    "flo_or= 18.40\n",
    "lista_examen=[4,\"H\", True,None, [\"bañador\", \"gorro\", \"crema\", \"sombrilla\"],(\"zara\", \"primark\", \"bershka\"), {\"nombre\":\"alba\", \"edad\": 29}, 18.40]\n"
   ]
  },
  {
   "cell_type": "markdown",
   "metadata": {},
   "source": [
    "-----------------------------\n",
    "\n",
    "**IMPORTANTE**: A partir de este momento y para todo el *ejercicio 5*, solo se van a utilizar los datos almacenados en `lista_examen`. Debe contener 8 elementos.\n",
    "\n",
    "-----------------------------\n",
    "### Ejercicio 5. \n",
    "\n",
    "Recuerda usar únicamente la variable `lista_examen`. Leer cada punto hasta el final antes de hacer la tarea. \n",
    "\n",
    "Se repite para que quede aún más claro: **SOLO USAR LA VARIABLE** `lista_examen`. Usar las demás variables se calificará como error.  \n",
    "\n",
    "1. Mostrar por pantalla, sin uso de funciones ni bucles: \n",
    "    - El segundo elemento de `lista_deseo` desde `lista_examen`.\n",
    "    - El calzado que llevas puesto.\n",
    "    - Vuestro nombre.\n",
    "    - La hora almacenada concatenada con vuestra edad y el número de vuestro de DNI. No debe haber espacios entre la concatenación.\n",
    "    - Si tenéis más de 20 años, el primer número de vuestro DNI es mayor a 7 y usas Mac, mostrar la posición 5 de `lista_examen`.\n",
    "\n",
    "2. Mostrar por pantalla, con uso de bucles:\n",
    "    - Todos los elementos de `lista_examen`.\n",
    "    - Todos los elementos de `lista_deseo` desde `lista_examen`.\n",
    "    - Todos los elementos de `tupla_ropa` seguido de la cadena `\"-->\"` y la `posición` (int) que ocupa en la tupla accediendo desde `lista_examen`. Se aconseja utilizar *`enumerate`*.\n",
    "    - Cada key de `dict_info` seguido de la cadena \":\" seguido de su value desde `lista_examen`.\n",
    "    - Todos los elementos que ocupen una posición menor a 4 en `lista_examen`."
   ]
  },
  {
   "cell_type": "code",
   "execution_count": 183,
   "metadata": {
    "tags": []
   },
   "outputs": [
    {
     "output_type": "stream",
     "name": "stdout",
     "text": "gorro\nbershka\nalba\n18.4294\n"
    }
   ],
   "source": [
    "lista_examen=[4,\"H\", True,None, [\"bañador\", \"gorro\", \"crema\", \"sombrilla\"],(\"zara\", \"primark\", \"bershka\"), {\"nombre\":\"alba\", \"edad\": 29}, 18.40]\n",
    "\n",
    "print (lista_examen[4][1])\n",
    "print(lista_examen[5][2])\n",
    "print (lista_examen[6][\"nombre\"])\n",
    "print (str(lista_examen[-1]) + str(lista_examen[6][\"edad\"])+ (str(lista_examen[0])))\n",
    "\n",
    "\n",
    "\n"
   ]
  },
  {
   "cell_type": "code",
   "execution_count": null,
   "metadata": {},
   "outputs": [],
   "source": [
    "Todos los elementos de lista_examen."
   ]
  },
  {
   "cell_type": "code",
   "execution_count": 120,
   "metadata": {
    "tags": []
   },
   "outputs": [
    {
     "output_type": "stream",
     "name": "stdout",
     "text": "4\nH\nTrue\nNone\n['bañador', 'gorro', 'crema', 'sombrilla']\n('zara', 'primark', 'bershka')\n{'nombre': 'alba', 'edad': 29}\n18.4\n"
    }
   ],
   "source": [
    "for i in lista_examen:\n",
    "    print(i)\n"
   ]
  },
  {
   "cell_type": "code",
   "execution_count": null,
   "metadata": {},
   "outputs": [],
   "source": [
    "Todos los elementos de lista_deseo desde lista_examen."
   ]
  },
  {
   "cell_type": "code",
   "execution_count": 121,
   "metadata": {
    "tags": []
   },
   "outputs": [
    {
     "output_type": "stream",
     "name": "stdout",
     "text": "['bañador', 'gorro', 'crema', 'sombrilla']\n"
    }
   ],
   "source": [
    "for t, y in enumerate (lista_examen):\n",
    "    t+1 \n",
    "    if isinstance (y, list):\n",
    "       print(y)"
   ]
  },
  {
   "cell_type": "code",
   "execution_count": null,
   "metadata": {},
   "outputs": [],
   "source": [
    "Todos los elementos de tupla_ropa seguido de la cadena \"-->\" y la posición (int) que ocupa en la tupla accediendo desde lista_examen. Se aconseja utilizar enumerate."
   ]
  },
  {
   "cell_type": "code",
   "execution_count": 153,
   "metadata": {
    "tags": []
   },
   "outputs": [
    {
     "output_type": "stream",
     "name": "stdout",
     "text": "pos 1\n(0, 'zara')\n--->\npos 2\n(1, 'primark')\n--->\npos 3\n(2, 'bershka')\n--->\n"
    }
   ],
   "source": [
    "for t in enumerate(lista_examen[5]):\n",
    "    print(\"pos\",t[0] + 1)\n",
    "    print(t)\n",
    "    print(\"--->\")"
   ]
  },
  {
   "cell_type": "code",
   "execution_count": null,
   "metadata": {},
   "outputs": [],
   "source": [
    "Cada key de dict_info seguido de la cadena \":\" seguido de su value desde lista_examen."
   ]
  },
  {
   "cell_type": "code",
   "execution_count": 157,
   "metadata": {
    "tags": []
   },
   "outputs": [
    {
     "output_type": "stream",
     "name": "stdout",
     "text": "[4, 'H', True, None, ['bañador', 'gorro', 'crema', 'sombrilla'], ('zara', 'primark', 'bershka'), {'nombre': 'alba', 'edad': 29}, 18.4]\n"
    }
   ],
   "source": [
    "print(lista_examen)"
   ]
  },
  {
   "cell_type": "code",
   "execution_count": 180,
   "metadata": {
    "tags": []
   },
   "outputs": [
    {
     "output_type": "stream",
     "name": "stdout",
     "text": "nombre: alba\nedad: 29\n"
    }
   ],
   "source": [
    "x=lista_examen[6]\n",
    "for k,v in x.items():\n",
    "    print(k+ \":\", v)\n"
   ]
  },
  {
   "cell_type": "code",
   "execution_count": null,
   "metadata": {},
   "outputs": [],
   "source": [
    "Todos los elementos que ocupen una posición menor a 4 en lista_examen"
   ]
  },
  {
   "cell_type": "code",
   "execution_count": 154,
   "metadata": {
    "tags": []
   },
   "outputs": [
    {
     "output_type": "stream",
     "name": "stdout",
     "text": "[4, 'H', True, None, ['bañador', 'gorro', 'crema', 'sombrilla'], ('zara', 'primark', 'bershka'), {'nombre': 'alba', 'edad': 29}, 18.4]\n"
    }
   ],
   "source": [
    "print(lista_examen)"
   ]
  },
  {
   "cell_type": "code",
   "execution_count": 156,
   "metadata": {
    "tags": []
   },
   "outputs": [
    {
     "output_type": "stream",
     "name": "stdout",
     "text": "4\nH\nTrue\nNone\n"
    }
   ],
   "source": [
    "for x in lista_examen[0:4]:\n",
    "    print(x)"
   ]
  },
  {
   "cell_type": "markdown",
   "metadata": {},
   "source": [
    "### Ejercicio 6\n",
    "\n",
    "Crea una clase \"Humano\" que tenga 3 atributos: \"edad\", \"altura\" y \"nombre\". Además, debe contar con dos funciones: \n",
    "\n",
    "- \"cumplir_edad\": al llamar a esta función se debe sumar 1 a la edad actual del humano. \n",
    "- \"registro_nombre\" que recibe parametro \"nuevo_nombre\": al llamar a esta función con un parámetro de entrada, esta función debe cambiar el nombre del humano por el \"nuevo_nombre\"\n",
    "\n",
    "Crea un humano llamado \"Wolfram\" que tiene 23 años de edad y mide 173 centímetros. A \"Wolfram\" nunca le gustó su nombre. Por eso, usa la función correspondiente para cambiarle su nombre por \"Benacio\". Además, hoy es su cumpleaños por lo que usa la función para aumentar su edad. \n",
    "\n",
    "Muestra por pantalla el nombre del humano antes y después de cambiarse de nombre. Muestra también la edad de Benacio antes y después de cumplir años."
   ]
  },
  {
   "cell_type": "code",
   "execution_count": 194,
   "metadata": {},
   "outputs": [
    {
     "output_type": "error",
     "ename": "SyntaxError",
     "evalue": "invalid syntax (<ipython-input-194-3b7d03e596f2>, line 16)",
     "traceback": [
      "\u001b[1;36m  File \u001b[1;32m\"<ipython-input-194-3b7d03e596f2>\"\u001b[1;36m, line \u001b[1;32m16\u001b[0m\n\u001b[1;33m    wolfram =\u001b[0m\n\u001b[1;37m              ^\u001b[0m\n\u001b[1;31mSyntaxError\u001b[0m\u001b[1;31m:\u001b[0m invalid syntax\n"
     ]
    }
   ],
   "source": [
    "class humano():\n",
    "    def _init_(self,edad, altura, nombre):\n",
    "       self.edad= edad \n",
    "       self.altura=altura \n",
    "       self.nombre=nombre\n",
    "\n",
    "    def cumple_anos (self):\n",
    "        self.edad +=1\n",
    "\n",
    "    def altura(self):\n",
    "        self.altura=altura\n",
    "\n",
    "    def nombre(self):\n",
    "        self.nombre=nombre \n",
    "\n",
    "wolfram = \n",
    "humano(nombre=\"wolfram\", edad=23, altura=1.73)\n",
    "print(wolfram.nombre)\n",
    "print(wolfram.edad)\n",
    "print(wolfram.altura)\n",
    "\n",
    "bonifacio = \n",
    "humano(nombre=\"bonifacio\", edad=24, altura=1.73)\n",
    "print(bonifacio.nombre)\n",
    "print(bonifacio.edad)\n",
    "print(bonifacio.altura)\n",
    "\n",
    "\n",
    "\n"
   ]
  },
  {
   "cell_type": "markdown",
   "metadata": {},
   "source": [
    "### Ejercicio 7\n",
    "\n",
    "Crea un diccionario llamado `generador` que tenga 10 elementos. Cada key es un número del 0 al 9 y su value es una letra del abecedario (empezando por la \"A\" y siguiendo el orden alfabético hasta la \"J\").\n",
    "\n",
    "Muestra por pantalla cada key seguido de dos puntos y su value."
   ]
  },
  {
   "cell_type": "code",
   "execution_count": 198,
   "metadata": {
    "tags": []
   },
   "outputs": [
    {
     "output_type": "stream",
     "name": "stdout",
     "text": "{'0': 'A', '1': 'B', '2': 'C', '3': 'D', '4': 'E', '5': 'F', '6': 'G', '7': 'H', '8': 'I', '9': 'J'}\n"
    }
   ],
   "source": [
    "generador={\"0\":\"A\",\"1\":\"B\",\"2\":\"C\",\"3\":\"D\",\"4\":\"E\",\"5\":\"F\",\"6\":\"G\",\"7\":\"H\",\"8\":\"I\",\"9\":\"J\"}\n",
    "print(generador)\n"
   ]
  },
  {
   "cell_type": "markdown",
   "metadata": {},
   "source": [
    "### Ejercicio 8\n",
    "\n"
   ]
  },
  {
   "cell_type": "markdown",
   "metadata": {},
   "source": [
    "Han establecido un sistema de control de entradas y salidas en un autobús de la EMT, de este modo se espera poder monitorizar los ocupantes que lleva el autobús y detectar cuando este vaya al máximo de su capacidad. \n",
    "\n",
    "En cada parada, la entrada y salida de pasajeros es representada en una tupla por dos integers. \n",
    "\n",
    "`bus_stop = (in, out)` \n",
    "\n",
    "La sucesión de paradas se representa con una lista de tuplas. \n",
    "\n",
    "`stops = [(9, 2), (4, 4), (7, 3), (8, 2), (3, 4)]`\n",
    "\n",
    "\n",
    "1. Calcula el número de paradas.\n",
    "\n",
    "2. Asigna a una varialbe una lista que contenga como elementos el número de pasajeros total en cada parada (in-out).\n",
    "\n",
    "3. Calcula el máximo de ocupación de este autobús."
   ]
  },
  {
   "cell_type": "code",
   "execution_count": 200,
   "metadata": {
    "tags": []
   },
   "outputs": [
    {
     "output_type": "stream",
     "name": "stdout",
     "text": "5\n"
    }
   ],
   "source": [
    "stops = [(9, 2), (4, 4), (7, 3), (8, 2), (3, 4)]\n",
    "print (len(stops))"
   ]
  },
  {
   "cell_type": "markdown",
   "metadata": {},
   "source": [
    "stops = [(9, 2), (4, 4), (7, 3), (8, 2), (3, 4)]"
   ]
  },
  {
   "cell_type": "code",
   "execution_count": 207,
   "metadata": {
    "tags": []
   },
   "outputs": [],
   "source": [
    "\n",
    "\n",
    "\n"
   ]
  },
  {
   "cell_type": "markdown",
   "metadata": {},
   "source": [
    "### Ejercicio 9\n",
    "\n",
    "En una base de datos SQL tenemos dos tablas con 2 columnas en una y 3 columnas en la otra. Una tabla se llama \"Persona\" y la otra se llama \"Banco\". \n",
    "\n",
    "*Esta es la estructura de las tablas:*\n",
    "\n",
    "-----------------------------\n",
    "\n",
    "La tabla \"Persona\" consta de: \n",
    "- Una columna \"DNI\", primare key, varchar\n",
    "- Una columna \"Edad\", int\n",
    "\n",
    "-----------------------------\n",
    "\n",
    "La tabla \"Banco\" consta de:\n",
    "- Una columna \"IBAN\", primare key, varchar\n",
    "- Una columna \"Usuario\" (que está representado por un DNI), varchar\n",
    "- Una columna \"Dinero\", int\n",
    "\n",
    "-----------------------------\n",
    "\n",
    "Escribir una consulta SQL que retorne los \"IBAN\" de los usuarios que tengan más de 22 años. "
   ]
  },
  {
   "cell_type": "code",
   "execution_count": 1,
   "metadata": {},
   "outputs": [],
   "source": [
    "CREATE TABLE Persona(id INT NOT NULL AUTO_INCREMENT, DNI VARCHAR(30), Edad (int), PRIMARY KEY (id));\n",
    "\n",
    "CREATE TABLE Banco (id INT NOT NULL AUTO_INCREMENT, IBAN VARCHAR (10), Usuario VARCHAR (20), Dinero (int), PRIMARY KEY (id)); \n",
    "\n",
    "\n",
    "INSERT INTO Persona (DNI, Edad)\n",
    "VALUES (Alba, 47584603h, 29); \n",
    "\n",
    "INSERT INTO Banco (IBAN, Usuario, Dinero)\n",
    "VALUES (H333, Alba, 5.000); \n",
    "\n",
    "SELECT IBAN FROM Banco, Persona WHERE Persona.Edad=29 and PERSONA.DNI=Banco.USUARIO; \n"
   ]
  },
  {
   "cell_type": "markdown",
   "metadata": {},
   "source": [
    "### Ejercicio 10\n",
    "\n",
    "Escribe un programa utilizando un `while` para que en cada iteración pregunte al usuario si quiere parar la ejecución y que solo pare su ejecución cuando el usuario escriba por pantalla \"PARAR\". \n",
    "\n",
    "Ten cuidado para que no se ejecute un bucle infinito.\n",
    "\n",
    "**La funcionalidad de este ejercicio debe estar contenido en una función.**"
   ]
  },
  {
   "cell_type": "code",
   "execution_count": null,
   "metadata": {},
   "outputs": [],
   "source": [
    "while x == true: \n",
    "    x= not input (\"\")"
   ]
  }
 ],
 "metadata": {
  "file_extension": ".py",
  "kernelspec": {
   "display_name": "Python 3",
   "language": "python",
   "name": "python3"
  },
  "language_info": {
   "codemirror_mode": {
    "name": "ipython",
    "version": 3
   },
   "file_extension": ".py",
   "mimetype": "text/x-python",
   "name": "python",
   "nbconvert_exporter": "python",
   "pygments_lexer": "ipython3",
   "version": "3.7.6"
  },
  "mimetype": "text/x-python",
  "name": "python",
  "npconvert_exporter": "python",
  "pygments_lexer": "ipython3",
  "version": 3
 },
 "nbformat": 4,
 "nbformat_minor": 4
}