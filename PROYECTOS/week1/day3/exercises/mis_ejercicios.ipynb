{
 "cells": [
  {
   "cell_type": "code",
   "execution_count": 124,
   "metadata": {
    "tags": []
   },
   "outputs": [
    {
     "output_type": "stream",
     "name": "stdout",
     "text": "1\nX\n2\n3\n4\n"
    }
   ],
   "source": [
    "lista = [\"Red\", \"GabriXel\", \"Blue\", 2]\n",
    "\n",
    "hola = 1\n",
    "for gato in lista:\n",
    "    if hola == 2:\n",
    "        print(gato[5])\n",
    "    print (hola)\n",
    "    hola+=1"
   ]
  },
  {
   "cell_type": "code",
   "execution_count": 157,
   "metadata": {
    "tags": []
   },
   "outputs": [
    {
     "output_type": "stream",
     "name": "stdout",
     "text": "1\n2\na\n3\n4\n"
    }
   ],
   "source": [
    "lista2= ['alba', 'alexIa', 'mama', 'papa']\n",
    "buscando=1\n",
    "for perro in lista2: \n",
    "    if buscando ==3:\n",
    "        print(perro[3])\n",
    "    print (buscando)\n",
    "    buscando+=1"
   ]
  },
  {
   "cell_type": "code",
   "execution_count": 136,
   "metadata": {},
   "outputs": [
    {
     "output_type": "execute_result",
     "data": {
      "text/plain": "['alba', 'alexIa', 'mama', 'papa']"
     },
     "metadata": {},
     "execution_count": 136
    }
   ],
   "source": [
    "lista2"
   ]
  },
  {
   "cell_type": "code",
   "execution_count": 148,
   "metadata": {
    "tags": []
   },
   "outputs": [
    {
     "output_type": "stream",
     "name": "stdout",
     "text": "a\n"
    }
   ],
   "source": [
    "lista2= ['alba', 'alexIa', 'mama', 'papa']\n",
    "buscando=1\n",
    "for perro in lista2: \n",
    "    if buscando ==3:\n",
    "        print(perro[3])\n",
    "    buscando+=1"
   ]
  },
  {
   "cell_type": "code",
   "execution_count": 151,
   "metadata": {
    "tags": []
   },
   "outputs": [
    {
     "output_type": "stream",
     "name": "stdout",
     "text": "a\n5\n"
    }
   ],
   "source": [
    "lista2= ['alba', 'alexIa', 'mama', 'papa']\n",
    "buscando=1\n",
    "for perro in lista2: \n",
    "    if buscando ==3:\n",
    "        print(perro[3])\n",
    "    buscando+=1\n",
    "print(buscando)"
   ]
  },
  {
   "cell_type": "code",
   "execution_count": 156,
   "metadata": {
    "tags": []
   },
   "outputs": [
    {
     "output_type": "stream",
     "name": "stdout",
     "text": "4\n4\n4\n4\na\n"
    }
   ],
   "source": [
    "lista2= ['alba', 'alexIa', 'mama', 'papa']\n",
    "buscando=1\n",
    "for perro in lista2:\n",
    "    print (len(lista2))\n",
    "for perro in lista2: \n",
    "    if buscando ==3:\n",
    "        print(perro[3])\n",
    "    buscando+=1\n"
   ]
  },
  {
   "cell_type": "code",
   "execution_count": 128,
   "metadata": {
    "tags": []
   },
   "outputs": [
    {
     "output_type": "stream",
     "name": "stdout",
     "text": "a\na\na\na\na\na\na\na\n"
    }
   ],
   "source": [
    "lista = [\"Red\", \"GabriXel\", \"Blue\", 2]\n",
    "for gato in lista [1]:\n",
    "    print (lista[1][1])"
   ]
  },
  {
   "cell_type": "code",
   "execution_count": 123,
   "metadata": {
    "tags": []
   },
   "outputs": [
    {
     "output_type": "stream",
     "name": "stdout",
     "text": "papa\na\n"
    }
   ],
   "source": [
    "lista2=[\"alba\", \"alexIa\", \"mama\", \"papa\"]\n",
    "print (perro)\n",
    "for perro in lista2:\n",
    "     if perro ==\"alexIa\":\n",
    "        print (lista2[2][3])\n",
    "        \n",
    "\n"
   ]
  },
  {
   "cell_type": "code",
   "execution_count": null,
   "metadata": {},
   "outputs": [],
   "source": []
  },
  {
   "cell_type": "code",
   "execution_count": 108,
   "metadata": {},
   "outputs": [
    {
     "output_type": "error",
     "ename": "NameError",
     "evalue": "name 'alba' is not defined",
     "traceback": [
      "\u001b[1;31m---------------------------------------------------------------------------\u001b[0m",
      "\u001b[1;31mNameError\u001b[0m                                 Traceback (most recent call last)",
      "\u001b[1;32m<ipython-input-108-d409bff7bb48>\u001b[0m in \u001b[0;36m<module>\u001b[1;34m\u001b[0m\n\u001b[0;32m      2\u001b[0m \u001b[0mx\u001b[0m\u001b[1;33m=\u001b[0m\u001b[1;36m1\u001b[0m\u001b[1;33m\u001b[0m\u001b[1;33m\u001b[0m\u001b[0m\n\u001b[0;32m      3\u001b[0m \u001b[1;32mfor\u001b[0m \u001b[0mbuscai\u001b[0m \u001b[1;32min\u001b[0m \u001b[0mlista\u001b[0m\u001b[1;33m:\u001b[0m\u001b[1;33m\u001b[0m\u001b[1;33m\u001b[0m\u001b[0m\n\u001b[1;32m----> 4\u001b[1;33m     \u001b[1;32mif\u001b[0m \u001b[0mx\u001b[0m \u001b[1;33m==\u001b[0m\u001b[0malba\u001b[0m\u001b[1;33m:\u001b[0m\u001b[1;33m\u001b[0m\u001b[1;33m\u001b[0m\u001b[0m\n\u001b[0m\u001b[0;32m      5\u001b[0m         \u001b[0mprint\u001b[0m \u001b[1;33m(\u001b[0m\u001b[0mlista\u001b[0m\u001b[1;33m(\u001b[0m\u001b[0mbuscai\u001b[0m\u001b[1;33m)\u001b[0m\u001b[1;33m[\u001b[0m\u001b[1;36m1\u001b[0m\u001b[1;33m]\u001b[0m\u001b[1;33m[\u001b[0m\u001b[1;36m4\u001b[0m\u001b[1;33m]\u001b[0m\u001b[1;33m)\u001b[0m\u001b[1;33m\u001b[0m\u001b[1;33m\u001b[0m\u001b[0m\n",
      "\u001b[1;31mNameError\u001b[0m: name 'alba' is not defined"
     ]
    }
   ],
   "source": [
    "lista=[\"alba\", \"alexIa\", \"mama\", \"papa\"]\n",
    "x=1\n",
    "for buscai in lista:\n",
    "    if x ==alba:\n",
    "        print (lista(buscai)[1][4])"
   ]
  },
  {
   "cell_type": "code",
   "execution_count": 107,
   "metadata": {
    "tags": []
   },
   "outputs": [
    {
     "output_type": "stream",
     "name": "stdout",
     "text": "lo he conseguido\n"
    }
   ],
   "source": [
    "lista=[\"alba\", \"alexIa\", \"mama\", \"papa\"]\n",
    "for x in lista:\n",
    "    if x==\"alba\":\n",
    "        print(\"lo he conseguido\")"
   ]
  },
  {
   "cell_type": "code",
   "execution_count": 102,
   "metadata": {
    "tags": []
   },
   "outputs": [
    {
     "output_type": "stream",
     "name": "stdout",
     "text": "X\n"
    }
   ],
   "source": [
    "lista1 = [\"Red\", \"GabriXel\", \"Blue\", 2]\n",
    "\n",
    "for gato in lista1:\n",
    "    if gato == \"GabriXel\":\n",
    "        print(gato[5])"
   ]
  },
  {
   "cell_type": "code",
   "execution_count": 109,
   "metadata": {
    "tags": []
   },
   "outputs": [
    {
     "output_type": "stream",
     "name": "stdout",
     "text": "['alba', 'alexIa', 'mama', 'papa']\n"
    }
   ],
   "source": [
    " lista= [\"alba\", \"alexIa\", \"mama\", \"papa\"]\n",
    " x==1\n",
    " if x ==1:\n",
    "    print (lista)"
   ]
  },
  {
   "cell_type": "code",
   "execution_count": 3,
   "metadata": {
    "tags": []
   },
   "outputs": [
    {
     "output_type": "stream",
     "name": "stdout",
     "text": "ha salido bien\n"
    }
   ],
   "source": [
    "a=int(input(\"numero 1:\"))\n",
    "b=int (input(\"numero 2:\"))\n",
    "\n",
    "if  a and b: \n",
    "    int (p) + int(k)\n",
    "    print (\"ha salido bien\")\n",
    "\n"
   ]
  },
  {
   "cell_type": "code",
   "execution_count": null,
   "metadata": {},
   "outputs": [],
   "source": [
    "suma_edades= int(input(\"inserta 70 o mas\"))\n",
    "suma_edades2= int(input(\"inserta 60 o menos\"))\n",
    "\n",
    "if g and p:\n",
    "    int \n",
    "    "
   ]
  },
  {
   "cell_type": "code",
   "execution_count": null,
   "metadata": {},
   "outputs": [],
   "source": []
  },
  {
   "cell_type": "code",
   "execution_count": 7,
   "metadata": {
    "tags": []
   },
   "outputs": [
    {
     "output_type": "error",
     "ename": "NameError",
     "evalue": "name 'edad4' is not defined",
     "traceback": [
      "\u001b[1;31m---------------------------------------------------------------------------\u001b[0m",
      "\u001b[1;31mNameError\u001b[0m                                 Traceback (most recent call last)",
      "\u001b[1;32m<ipython-input-7-c53696007333>\u001b[0m in \u001b[0;36m<module>\u001b[1;34m\u001b[0m\n\u001b[1;32m----> 1\u001b[1;33m \u001b[0medad4\u001b[0m\u001b[1;33m\u001b[0m\u001b[1;33m\u001b[0m\u001b[0m\n\u001b[0m\u001b[0;32m      2\u001b[0m \u001b[0mprint\u001b[0m \u001b[1;33m(\u001b[0m\u001b[0medad4\u001b[0m\u001b[1;33m)\u001b[0m\u001b[1;33m\u001b[0m\u001b[1;33m\u001b[0m\u001b[0m\n",
      "\u001b[1;31mNameError\u001b[0m: name 'edad4' is not defined"
     ]
    }
   ],
   "source": [
    "edad4\n",
    "print (edad4)\n"
   ]
  },
  {
   "cell_type": "code",
   "execution_count": 25,
   "metadata": {
    "tags": []
   },
   "outputs": [
    {
     "output_type": "stream",
     "name": "stdout",
     "text": "hoy\nmañana\n"
    }
   ],
   "source": [
    "t6 = \"hoy\"\n",
    "t2= \"mañana\"\n",
    "print (t6)\n",
    "print (t2)"
   ]
  },
  {
   "cell_type": "code",
   "execution_count": 56,
   "metadata": {
    "tags": []
   },
   "outputs": [
    {
     "output_type": "stream",
     "name": "stdout",
     "text": "3\n"
    }
   ],
   "source": [
    "t2 =1\n",
    "tx2 =2\n",
    "suma\n",
    "print (suma)"
   ]
  },
  {
   "cell_type": "code",
   "execution_count": 58,
   "metadata": {
    "tags": []
   },
   "outputs": [
    {
     "output_type": "stream",
     "name": "stdout",
     "text": "5\n"
    }
   ],
   "source": [
    "t2=2\n",
    "t3=3\n",
    "suma= t2+t3\n",
    "print (suma)"
   ]
  },
  {
   "cell_type": "code",
   "execution_count": 63,
   "metadata": {
    "tags": []
   },
   "outputs": [
    {
     "output_type": "stream",
     "name": "stdout",
     "text": "9\n<class 'int'>\n<classmethod object at 0x000001F4A45CE2C8>\n"
    }
   ],
   "source": [
    "t4= 4\n",
    "print (suma + t4)\n",
    "print(type(suma))\n",
    "print(classmethod(suma))\n",
    "\n"
   ]
  },
  {
   "cell_type": "code",
   "execution_count": 68,
   "metadata": {
    "tags": []
   },
   "outputs": [
    {
     "output_type": "stream",
     "name": "stdout",
     "text": "[1, 2, 3, 10]\n"
    }
   ],
   "source": [
    "L= [1,2,3]\n",
    "L.append(10)\n",
    "print (L)\n"
   ]
  },
  {
   "cell_type": "code",
   "execution_count": 1,
   "metadata": {
    "tags": []
   },
   "outputs": [
    {
     "output_type": "stream",
     "name": "stdout",
     "text": "4\n"
    }
   ],
   "source": [
    "l=[1, 2, 3, 4]\n",
    "print (len(l))"
   ]
  },
  {
   "cell_type": "code",
   "execution_count": 3,
   "metadata": {
    "tags": []
   },
   "outputs": [
    {
     "output_type": "stream",
     "name": "stdout",
     "text": "3\n"
    }
   ],
   "source": [
    "listita= [0,2,4]\n",
    "print (len(listita))"
   ]
  },
  {
   "cell_type": "code",
   "execution_count": null,
   "metadata": {},
   "outputs": [],
   "source": [
    "Booleanos "
   ]
  },
  {
   "cell_type": "code",
   "execution_count": 63,
   "metadata": {
    "tags": []
   },
   "outputs": [
    {
     "output_type": "stream",
     "name": "stdout",
     "text": "se cumple\n"
    }
   ],
   "source": [
    "\n",
    "\n",
    "if (len(listita))>4:\n",
    "    print (\"no se cumple\")\n",
    "\n",
    "else: \n",
    "    print (\"se cumple\")                            "
   ]
  },
  {
   "cell_type": "code",
   "execution_count": 61,
   "metadata": {
    "tags": []
   },
   "outputs": [
    {
     "output_type": "stream",
     "name": "stdout",
     "text": "lo he conseguido\n"
    }
   ],
   "source": [
    "\n",
    "if (len(listita))>=3: \n",
    "    print (\"lo he conseguido\")\n",
    "\n",
    "else:\n",
    "    (len(listita))<=3\n",
    "    print (\"no lo he conseguido\")\n",
    "\n",
    "#en else hay que poner : al final de \"else\", en if al final de la misma condición "
   ]
  },
  {
   "cell_type": "code",
   "execution_count": 79,
   "metadata": {
    "tags": []
   },
   "outputs": [
    {
     "output_type": "stream",
     "name": "stdout",
     "text": "es verdadero\n"
    }
   ],
   "source": [
    "if (1<=2):\n",
    "    print (\"es verdadero\")"
   ]
  },
  {
   "cell_type": "code",
   "execution_count": 97,
   "metadata": {},
   "outputs": [
    {
     "output_type": "error",
     "ename": "SyntaxError",
     "evalue": "invalid syntax (<ipython-input-97-8b888f826f80>, line 1)",
     "traceback": [
      "\u001b[1;36m  File \u001b[1;32m\"<ipython-input-97-8b888f826f80>\"\u001b[1;36m, line \u001b[1;32m1\u001b[0m\n\u001b[1;33m    Condiciones con and/or  #Preguntar a Clara o buscar en Google\u001b[0m\n\u001b[1;37m                  ^\u001b[0m\n\u001b[1;31mSyntaxError\u001b[0m\u001b[1;31m:\u001b[0m invalid syntax\n"
     ]
    }
   ],
   "source": [
    "Condiciones con and/or  #Preguntar a Clara o buscar en Google "
   ]
  },
  {
   "cell_type": "code",
   "execution_count": 103,
   "metadata": {
    "tags": []
   },
   "outputs": [
    {
     "output_type": "stream",
     "name": "stdout",
     "text": "no se cumple\n"
    }
   ],
   "source": [
    "x=7\n",
    "if (x>=7) and (x<=7):\n",
    "    print (\"se cumple\" and \"no se cumple\")"
   ]
  },
  {
   "cell_type": "code",
   "execution_count": 110,
   "metadata": {
    "tags": []
   },
   "outputs": [
    {
     "output_type": "stream",
     "name": "stdout",
     "text": "se cumple\n"
    }
   ],
   "source": [
    "x=7\n",
    "if (x>=7) or (x==7):\n",
    "    print (\"se cumple\" or \"no se cumple\")"
   ]
  },
  {
   "cell_type": "code",
   "execution_count": 108,
   "metadata": {
    "tags": []
   },
   "outputs": [],
   "source": [
    "x=5\n",
    "\n",
    "if (x>=1)and (x==2):\n",
    "    print (\"mayor a 1 y menor a 3\")"
   ]
  },
  {
   "cell_type": "code",
   "execution_count": null,
   "metadata": {},
   "outputs": [],
   "source": [
    "1. Crea una variable llamada nombre_calle que sea un string y sea Recoletos"
   ]
  },
  {
   "cell_type": "code",
   "execution_count": 3,
   "metadata": {},
   "outputs": [],
   "source": [
    "nombre_calle= \"Recoletos\""
   ]
  },
  {
   "cell_type": "code",
   "execution_count": null,
   "metadata": {},
   "outputs": [],
   "source": [
    "Crea una variable llamada gusto_personal que sea True si eres más de playa y False si eres más de montaña."
   ]
  },
  {
   "cell_type": "code",
   "execution_count": 10,
   "metadata": {
    "tags": []
   },
   "outputs": [
    {
     "output_type": "stream",
     "name": "stdout",
     "text": "False\n"
    }
   ],
   "source": [
    "gusto_personal= False\n",
    "\n",
    "if \"soy mas de playa\": \n",
    "    print (False)"
   ]
  },
  {
   "cell_type": "code",
   "execution_count": null,
   "metadata": {},
   "outputs": [],
   "source": [
    "Crea una variable llamada nada de la siguiente forma: nada = None. None no representa ningún valor. Ha de tenerse en cuenta que si se hace if (nada):, nada actúa como un valor booleano False."
   ]
  },
  {
   "cell_type": "code",
   "execution_count": 5,
   "metadata": {},
   "outputs": [],
   "source": [
    "nada= None \n",
    "#None actúa como valor booleano False "
   ]
  },
  {
   "cell_type": "code",
   "execution_count": null,
   "metadata": {},
   "outputs": [],
   "source": [
    "Crea una variable que llamada lista_direccion que sea una lista y que contenga 2 valores. El primer valor debe ser la variable numero_bridge y el segundo valor de la lista debe ser la variable nombre_calle"
   ]
  },
  {
   "cell_type": "code",
   "execution_count": 7,
   "metadata": {},
   "outputs": [],
   "source": [
    "lista_direccion= [\"numero_bridge\", \"nombre_calle\"]"
   ]
  },
  {
   "cell_type": "code",
   "execution_count": 12,
   "metadata": {},
   "outputs": [],
   "source": [
    "numero_bridge= 15"
   ]
  },
  {
   "cell_type": "code",
   "execution_count": null,
   "metadata": {},
   "outputs": [],
   "source": []
  },
  {
   "cell_type": "code",
   "execution_count": null,
   "metadata": {},
   "outputs": [],
   "source": [
    "Crea una variable llamada horas_sueno que almacene, en forma de String, las horas que has dormido hoy."
   ]
  },
  {
   "cell_type": "code",
   "execution_count": 8,
   "metadata": {},
   "outputs": [],
   "source": [
    "horas_sueno= \"5\""
   ]
  },
  {
   "cell_type": "code",
   "execution_count": null,
   "metadata": {},
   "outputs": [],
   "source": [
    "Crea una lista llamada lista_informacion que tenga cada una de las variables creadas anteriormente en el orden en el que se han expuesto en el ejercicio. IMPORTANTE: A partir de este momento y para todos estos ejercicios, solo se van a utilizar los datos almacenados en lista_informacion. Debe contener 6 elementos.\n"
   ]
  },
  {
   "cell_type": "code",
   "execution_count": 4,
   "metadata": {},
   "outputs": [
    {
     "output_type": "error",
     "ename": "NameError",
     "evalue": "name 'numero_bridge' is not defined",
     "traceback": [
      "\u001b[1;31m---------------------------------------------------------------------------\u001b[0m",
      "\u001b[1;31mNameError\u001b[0m                                 Traceback (most recent call last)",
      "\u001b[1;32m<ipython-input-4-6f6e61f65a00>\u001b[0m in \u001b[0;36m<module>\u001b[1;34m\u001b[0m\n\u001b[1;32m----> 1\u001b[1;33m lista_informacion= [numero_bridge, \n\u001b[0m\u001b[0;32m      2\u001b[0m     \u001b[0mnombre_calle\u001b[0m\u001b[1;33m,\u001b[0m\u001b[1;33m\u001b[0m\u001b[1;33m\u001b[0m\u001b[0m\n\u001b[0;32m      3\u001b[0m     \u001b[0mgusto_personal\u001b[0m\u001b[1;33m,\u001b[0m\u001b[1;33m\u001b[0m\u001b[1;33m\u001b[0m\u001b[0m\n\u001b[0;32m      4\u001b[0m     \u001b[0mnada\u001b[0m\u001b[1;33m,\u001b[0m\u001b[1;33m\u001b[0m\u001b[1;33m\u001b[0m\u001b[0m\n\u001b[0;32m      5\u001b[0m     \u001b[0mlista_direccion\u001b[0m\u001b[1;33m,\u001b[0m\u001b[1;33m\u001b[0m\u001b[1;33m\u001b[0m\u001b[0m\n",
      "\u001b[1;31mNameError\u001b[0m: name 'numero_bridge' is not defined"
     ]
    }
   ],
   "source": [
    "lista_informacion= [numero_bridge, \n",
    "    nombre_calle,\n",
    "    gusto_personal,\n",
    "    nada,\n",
    "    lista_direccion,\n",
    "    horas_sueno]"
   ]
  },
  {
   "cell_type": "code",
   "execution_count": null,
   "metadata": {},
   "outputs": [],
   "source": [
    "Ejecuta esta celda para borrar todas las variables que has tenido que crear antes. El contenido de lista_informacion no cambiará. De esta forma, nos aseguraremos de que solo uses la información de lista_informacion."
   ]
  },
  {
   "cell_type": "code",
   "execution_count": 17,
   "metadata": {},
   "outputs": [],
   "source": [
    "del numero_bridge\n",
    "del nombre_calle\n",
    "del gusto_personal \n",
    "del nada\n",
    "del lista_direccion\n",
    "del horas_sueno"
   ]
  },
  {
   "cell_type": "code",
   "execution_count": 2,
   "metadata": {},
   "outputs": [
    {
     "output_type": "error",
     "ename": "NameError",
     "evalue": "name 'lista_informacion' is not defined",
     "traceback": [
      "\u001b[1;31m---------------------------------------------------------------------------\u001b[0m",
      "\u001b[1;31mNameError\u001b[0m                                 Traceback (most recent call last)",
      "\u001b[1;32m<ipython-input-2-03c236d34491>\u001b[0m in \u001b[0;36m<module>\u001b[1;34m\u001b[0m\n\u001b[1;32m----> 1\u001b[1;33m \u001b[0mlista_informacion\u001b[0m\u001b[1;33m\u001b[0m\u001b[1;33m\u001b[0m\u001b[0m\n\u001b[0m",
      "\u001b[1;31mNameError\u001b[0m: name 'lista_informacion' is not defined"
     ]
    }
   ],
   "source": [
    "lista_informacion"
   ]
  },
  {
   "cell_type": "code",
   "execution_count": null,
   "metadata": {},
   "outputs": [],
   "source": [
    "EJERCICIO 2 "
   ]
  },
  {
   "cell_type": "code",
   "execution_count": null,
   "metadata": {},
   "outputs": [],
   "source": [
    "Para esta parte del ejercicio has debido definir lista_información correctamente. Recuerda no usar las variables excepto lista_informacion. Leer cada punto hasta el final antes de hacer la tarea."
   ]
  },
  {
   "cell_type": "code",
   "execution_count": 6,
   "metadata": {
    "tags": []
   },
   "outputs": [
    {
     "output_type": "stream",
     "name": "stdout",
     "text": "[15, 'Recoletos', False, None, [15, 'Recoletos'], '5']\n"
    }
   ],
   "source": [
    "lista_informacion= [15, 'Recoletos', False, None, [15, 'Recoletos'], '5']\n",
    "print (lista_informacion)"
   ]
  },
  {
   "cell_type": "code",
   "execution_count": null,
   "metadata": {},
   "outputs": [],
   "source": [
    "Mostrar por pantalla, sin uso de funciones ni bucles:"
   ]
  },
  {
   "cell_type": "code",
   "execution_count": null,
   "metadata": {},
   "outputs": [],
   "source": [
    "La concatenación del número de The Bridge, dos puntos y el nombre de la calle."
   ]
  },
  {
   "cell_type": "code",
   "execution_count": 19,
   "metadata": {},
   "outputs": [
    {
     "output_type": "execute_result",
     "data": {
      "text/plain": "[15, 'Recoletos', False, None, ['numero_bridge', 'nombre_calle'], '5']"
     },
     "metadata": {},
     "execution_count": 19
    }
   ],
   "source": [
    "lista_informacion"
   ]
  },
  {
   "cell_type": "code",
   "execution_count": 17,
   "metadata": {
    "tags": []
   },
   "outputs": [
    {
     "output_type": "stream",
     "name": "stdout",
     "text": "15:Recoletos\n"
    }
   ],
   "source": [
    "print (str(lista_informacion[0]) + \":\"+ lista_informacion[1])"
   ]
  },
  {
   "cell_type": "code",
   "execution_count": null,
   "metadata": {},
   "outputs": [],
   "source": [
    "La suma del número de The Bridge y las horas que has dormido hoy."
   ]
  },
  {
   "cell_type": "code",
   "execution_count": null,
   "metadata": {},
   "outputs": [],
   "source": []
  },
  {
   "cell_type": "code",
   "execution_count": null,
   "metadata": {},
   "outputs": [],
   "source": [
    "La concatenación del número de The Bridge, el nombre de la calle, tu gusto personal y las horas de sueño. Cada uno debe estar separado por lo siguiente: \" : \""
   ]
  },
  {
   "cell_type": "code",
   "execution_count": null,
   "metadata": {},
   "outputs": [],
   "source": []
  },
  {
   "cell_type": "code",
   "execution_count": null,
   "metadata": {},
   "outputs": [],
   "source": [
    "Accediendo a la lista que ocupa la cuarta posición de lista_informacion, muestra por pantalla la suma de lo siguiente. Si en la cuarta posición de tu lista_informacion no encuentras una lista, preguntanos:\n",
    "La concatenación de los dos elementos.\n",
    "La multiplicación del tamaño de la lista y el tamaño del número de caracteres que tiene el nombre de la calle."
   ]
  },
  {
   "cell_type": "code",
   "execution_count": null,
   "metadata": {},
   "outputs": [],
   "source": []
  },
  {
   "cell_type": "code",
   "execution_count": null,
   "metadata": {},
   "outputs": [],
   "source": [
    "Para resolver los siguientes ejercicios será necesario que definas una función para cada apartado, tú eliges el nombre salvo que se especifique, pero asegúrate de que defines un único argumento/parámetro lista, que al llamar a la función se corresponderá con la variable lista_información."
   ]
  },
  {
   "cell_type": "code",
   "execution_count": null,
   "metadata": {},
   "outputs": [],
   "source": []
  },
  {
   "cell_type": "code",
   "execution_count": null,
   "metadata": {},
   "outputs": [],
   "source": [
    "Nota: Cuando sea recorre se refiere a bucle for."
   ]
  },
  {
   "cell_type": "code",
   "execution_count": null,
   "metadata": {},
   "outputs": [],
   "source": []
  },
  {
   "cell_type": "code",
   "execution_count": null,
   "metadata": {},
   "outputs": [],
   "source": [
    "Mostrar por pantalla \"Me gusta la tranquilidad\" si te gusta más la montaña y \"Me gusta ver las carnes al aire libre\" si te gusta más la playa."
   ]
  },
  {
   "cell_type": "code",
   "execution_count": null,
   "metadata": {},
   "outputs": [],
   "source": []
  },
  {
   "cell_type": "code",
   "execution_count": null,
   "metadata": {},
   "outputs": [],
   "source": [
    "Mostrar por pantalla \"Hoy estoy cansado\" si has dormido menos de 7 horas y \"Hoy me como el mundo\" si has dormido más de 7 horas."
   ]
  },
  {
   "cell_type": "code",
   "execution_count": null,
   "metadata": {},
   "outputs": [],
   "source": []
  },
  {
   "cell_type": "code",
   "execution_count": 1,
   "metadata": {},
   "outputs": [
    {
     "output_type": "error",
     "ename": "SyntaxError",
     "evalue": "invalid syntax (<ipython-input-1-2613d6299c50>, line 2)",
     "traceback": [
      "\u001b[1;36m  File \u001b[1;32m\"<ipython-input-1-2613d6299c50>\"\u001b[1;36m, line \u001b[1;32m2\u001b[0m\n\u001b[1;33m    CPU times: user 680 ms, sys: 180 ms, total: 860 ms\u001b[0m\n\u001b[1;37m            ^\u001b[0m\n\u001b[1;31mSyntaxError\u001b[0m\u001b[1;31m:\u001b[0m invalid syntax\n"
     ]
    }
   ],
   "source": [
    "%time for _ in range(10): my_list2 = [x * 2 for x in my_list]\n",
    "CPU times: user 680 ms, sys: 180 ms, total: 860 ms\n",
    "Wall time: 861 ms"
   ]
  },
  {
   "cell_type": "code",
   "execution_count": 6,
   "metadata": {},
   "outputs": [
    {
     "output_type": "error",
     "ename": "SyntaxError",
     "evalue": "invalid syntax (<ipython-input-6-25f430b9155b>, line 2)",
     "traceback": [
      "\u001b[1;36m  File \u001b[1;32m\"<ipython-input-6-25f430b9155b>\"\u001b[1;36m, line \u001b[1;32m2\u001b[0m\n\u001b[1;33m    for x in range (lista)\u001b[0m\n\u001b[1;37m                          ^\u001b[0m\n\u001b[1;31mSyntaxError\u001b[0m\u001b[1;31m:\u001b[0m invalid syntax\n"
     ]
    }
   ],
   "source": [
    "lista= [mama, papa, alba, alexia]\n",
    "for x in range (lista)\n",
    "print (x)\n"
   ]
  },
  {
   "cell_type": "code",
   "execution_count": null,
   "metadata": {},
   "outputs": [],
   "source": []
  }
 ],
 "metadata": {
  "language_info": {
   "codemirror_mode": {
    "name": "ipython",
    "version": 3
   },
   "file_extension": ".py",
   "mimetype": "text/x-python",
   "name": "python",
   "nbconvert_exporter": "python",
   "pygments_lexer": "ipython3",
   "version": "3.7.6-final"
  },
  "orig_nbformat": 2,
  "kernelspec": {
   "name": "python3",
   "display_name": "Python 3"
  }
 },
 "nbformat": 4,
 "nbformat_minor": 2
}